{
  "nbformat": 4,
  "nbformat_minor": 0,
  "metadata": {
    "colab": {
      "provenance": [],
      "authorship_tag": "ABX9TyOtXhUboKlKE+a4yV6HnUkE",
      "include_colab_link": true
    },
    "kernelspec": {
      "name": "python3",
      "display_name": "Python 3"
    },
    "language_info": {
      "name": "python"
    }
  },
  "cells": [
    {
      "cell_type": "markdown",
      "metadata": {
        "id": "view-in-github",
        "colab_type": "text"
      },
      "source": [
        "<a href=\"https://colab.research.google.com/github/Sovanno/NLP/blob/main/LAB2_A.ipynb\" target=\"_parent\"><img src=\"https://colab.research.google.com/assets/colab-badge.svg\" alt=\"Open In Colab\"/></a>"
      ]
    },
    {
      "cell_type": "markdown",
      "source": [
        "# Загрузка датасета"
      ],
      "metadata": {
        "id": "2Q6JH0BG_ZqZ"
      }
    },
    {
      "cell_type": "code",
      "execution_count": 1,
      "metadata": {
        "id": "Y_yyAOad8WZW"
      },
      "outputs": [],
      "source": [
        "import pandas as pd"
      ]
    },
    {
      "cell_type": "markdown",
      "source": [
        "Загрузка данных"
      ],
      "metadata": {
        "id": "lb6VQ5qS9ZTo"
      }
    },
    {
      "cell_type": "code",
      "source": [
        "data = pd.read_csv('Petitions.csv')\n",
        "data"
      ],
      "metadata": {
        "colab": {
          "base_uri": "https://localhost:8080/",
          "height": 423
        },
        "id": "OIDEGdz09WPl",
        "outputId": "d4a49784-c441-495d-bf91-8e1dfe0becd7"
      },
      "execution_count": 2,
      "outputs": [
        {
          "output_type": "execute_result",
          "data": {
            "text/plain": [
              "            id                               public_petition_text  \\\n",
              "0      3168490                                     снег на дороге   \n",
              "1      3219678                очистить кабельный киоск от рекламы   \n",
              "2      2963920  Просим убрать все деревья и кустарники, которы...   \n",
              "3      3374910  Неудовлетворительное состояние парадной - надп...   \n",
              "4      3336285                                           Граффити   \n",
              "...        ...                                                ...   \n",
              "59884  3128111                           прошу закрасить граффити   \n",
              "59885  3276713       Прошу вас отремонтировать пешеходную дорожку   \n",
              "59886  3274663  Необходимо демонтировать незаконную рекламную ...   \n",
              "59887  3359308  Очень гремит на ветру металлическая часть окна...   \n",
              "59888  3209098  Две проблемы в одном:\\n1) Незаконные надписи/о...   \n",
              "\n",
              "                                         reason_category  \n",
              "0                                        Благоустройство  \n",
              "1                                        Благоустройство  \n",
              "2                                        Благоустройство  \n",
              "3                                         Содержание МКД  \n",
              "4                                        Благоустройство  \n",
              "...                                                  ...  \n",
              "59884                                    Благоустройство  \n",
              "59885                                    Благоустройство  \n",
              "59886  Незаконная информационная и (или) рекламная ко...  \n",
              "59887                                             Кровля  \n",
              "59888                                    Благоустройство  \n",
              "\n",
              "[59889 rows x 3 columns]"
            ],
            "text/html": [
              "\n",
              "  <div id=\"df-9e1623e0-4378-4efb-91b6-43dda8435b14\" class=\"colab-df-container\">\n",
              "    <div>\n",
              "<style scoped>\n",
              "    .dataframe tbody tr th:only-of-type {\n",
              "        vertical-align: middle;\n",
              "    }\n",
              "\n",
              "    .dataframe tbody tr th {\n",
              "        vertical-align: top;\n",
              "    }\n",
              "\n",
              "    .dataframe thead th {\n",
              "        text-align: right;\n",
              "    }\n",
              "</style>\n",
              "<table border=\"1\" class=\"dataframe\">\n",
              "  <thead>\n",
              "    <tr style=\"text-align: right;\">\n",
              "      <th></th>\n",
              "      <th>id</th>\n",
              "      <th>public_petition_text</th>\n",
              "      <th>reason_category</th>\n",
              "    </tr>\n",
              "  </thead>\n",
              "  <tbody>\n",
              "    <tr>\n",
              "      <th>0</th>\n",
              "      <td>3168490</td>\n",
              "      <td>снег на дороге</td>\n",
              "      <td>Благоустройство</td>\n",
              "    </tr>\n",
              "    <tr>\n",
              "      <th>1</th>\n",
              "      <td>3219678</td>\n",
              "      <td>очистить кабельный киоск от рекламы</td>\n",
              "      <td>Благоустройство</td>\n",
              "    </tr>\n",
              "    <tr>\n",
              "      <th>2</th>\n",
              "      <td>2963920</td>\n",
              "      <td>Просим убрать все деревья и кустарники, которы...</td>\n",
              "      <td>Благоустройство</td>\n",
              "    </tr>\n",
              "    <tr>\n",
              "      <th>3</th>\n",
              "      <td>3374910</td>\n",
              "      <td>Неудовлетворительное состояние парадной - надп...</td>\n",
              "      <td>Содержание МКД</td>\n",
              "    </tr>\n",
              "    <tr>\n",
              "      <th>4</th>\n",
              "      <td>3336285</td>\n",
              "      <td>Граффити</td>\n",
              "      <td>Благоустройство</td>\n",
              "    </tr>\n",
              "    <tr>\n",
              "      <th>...</th>\n",
              "      <td>...</td>\n",
              "      <td>...</td>\n",
              "      <td>...</td>\n",
              "    </tr>\n",
              "    <tr>\n",
              "      <th>59884</th>\n",
              "      <td>3128111</td>\n",
              "      <td>прошу закрасить граффити</td>\n",
              "      <td>Благоустройство</td>\n",
              "    </tr>\n",
              "    <tr>\n",
              "      <th>59885</th>\n",
              "      <td>3276713</td>\n",
              "      <td>Прошу вас отремонтировать пешеходную дорожку</td>\n",
              "      <td>Благоустройство</td>\n",
              "    </tr>\n",
              "    <tr>\n",
              "      <th>59886</th>\n",
              "      <td>3274663</td>\n",
              "      <td>Необходимо демонтировать незаконную рекламную ...</td>\n",
              "      <td>Незаконная информационная и (или) рекламная ко...</td>\n",
              "    </tr>\n",
              "    <tr>\n",
              "      <th>59887</th>\n",
              "      <td>3359308</td>\n",
              "      <td>Очень гремит на ветру металлическая часть окна...</td>\n",
              "      <td>Кровля</td>\n",
              "    </tr>\n",
              "    <tr>\n",
              "      <th>59888</th>\n",
              "      <td>3209098</td>\n",
              "      <td>Две проблемы в одном:\\n1) Незаконные надписи/о...</td>\n",
              "      <td>Благоустройство</td>\n",
              "    </tr>\n",
              "  </tbody>\n",
              "</table>\n",
              "<p>59889 rows × 3 columns</p>\n",
              "</div>\n",
              "    <div class=\"colab-df-buttons\">\n",
              "\n",
              "  <div class=\"colab-df-container\">\n",
              "    <button class=\"colab-df-convert\" onclick=\"convertToInteractive('df-9e1623e0-4378-4efb-91b6-43dda8435b14')\"\n",
              "            title=\"Convert this dataframe to an interactive table.\"\n",
              "            style=\"display:none;\">\n",
              "\n",
              "  <svg xmlns=\"http://www.w3.org/2000/svg\" height=\"24px\" viewBox=\"0 -960 960 960\">\n",
              "    <path d=\"M120-120v-720h720v720H120Zm60-500h600v-160H180v160Zm220 220h160v-160H400v160Zm0 220h160v-160H400v160ZM180-400h160v-160H180v160Zm440 0h160v-160H620v160ZM180-180h160v-160H180v160Zm440 0h160v-160H620v160Z\"/>\n",
              "  </svg>\n",
              "    </button>\n",
              "\n",
              "  <style>\n",
              "    .colab-df-container {\n",
              "      display:flex;\n",
              "      gap: 12px;\n",
              "    }\n",
              "\n",
              "    .colab-df-convert {\n",
              "      background-color: #E8F0FE;\n",
              "      border: none;\n",
              "      border-radius: 50%;\n",
              "      cursor: pointer;\n",
              "      display: none;\n",
              "      fill: #1967D2;\n",
              "      height: 32px;\n",
              "      padding: 0 0 0 0;\n",
              "      width: 32px;\n",
              "    }\n",
              "\n",
              "    .colab-df-convert:hover {\n",
              "      background-color: #E2EBFA;\n",
              "      box-shadow: 0px 1px 2px rgba(60, 64, 67, 0.3), 0px 1px 3px 1px rgba(60, 64, 67, 0.15);\n",
              "      fill: #174EA6;\n",
              "    }\n",
              "\n",
              "    .colab-df-buttons div {\n",
              "      margin-bottom: 4px;\n",
              "    }\n",
              "\n",
              "    [theme=dark] .colab-df-convert {\n",
              "      background-color: #3B4455;\n",
              "      fill: #D2E3FC;\n",
              "    }\n",
              "\n",
              "    [theme=dark] .colab-df-convert:hover {\n",
              "      background-color: #434B5C;\n",
              "      box-shadow: 0px 1px 3px 1px rgba(0, 0, 0, 0.15);\n",
              "      filter: drop-shadow(0px 1px 2px rgba(0, 0, 0, 0.3));\n",
              "      fill: #FFFFFF;\n",
              "    }\n",
              "  </style>\n",
              "\n",
              "    <script>\n",
              "      const buttonEl =\n",
              "        document.querySelector('#df-9e1623e0-4378-4efb-91b6-43dda8435b14 button.colab-df-convert');\n",
              "      buttonEl.style.display =\n",
              "        google.colab.kernel.accessAllowed ? 'block' : 'none';\n",
              "\n",
              "      async function convertToInteractive(key) {\n",
              "        const element = document.querySelector('#df-9e1623e0-4378-4efb-91b6-43dda8435b14');\n",
              "        const dataTable =\n",
              "          await google.colab.kernel.invokeFunction('convertToInteractive',\n",
              "                                                    [key], {});\n",
              "        if (!dataTable) return;\n",
              "\n",
              "        const docLinkHtml = 'Like what you see? Visit the ' +\n",
              "          '<a target=\"_blank\" href=https://colab.research.google.com/notebooks/data_table.ipynb>data table notebook</a>'\n",
              "          + ' to learn more about interactive tables.';\n",
              "        element.innerHTML = '';\n",
              "        dataTable['output_type'] = 'display_data';\n",
              "        await google.colab.output.renderOutput(dataTable, element);\n",
              "        const docLink = document.createElement('div');\n",
              "        docLink.innerHTML = docLinkHtml;\n",
              "        element.appendChild(docLink);\n",
              "      }\n",
              "    </script>\n",
              "  </div>\n",
              "\n",
              "\n",
              "<div id=\"df-bab9e625-2654-4d4c-8e87-b09e97a423fc\">\n",
              "  <button class=\"colab-df-quickchart\" onclick=\"quickchart('df-bab9e625-2654-4d4c-8e87-b09e97a423fc')\"\n",
              "            title=\"Suggest charts\"\n",
              "            style=\"display:none;\">\n",
              "\n",
              "<svg xmlns=\"http://www.w3.org/2000/svg\" height=\"24px\"viewBox=\"0 0 24 24\"\n",
              "     width=\"24px\">\n",
              "    <g>\n",
              "        <path d=\"M19 3H5c-1.1 0-2 .9-2 2v14c0 1.1.9 2 2 2h14c1.1 0 2-.9 2-2V5c0-1.1-.9-2-2-2zM9 17H7v-7h2v7zm4 0h-2V7h2v10zm4 0h-2v-4h2v4z\"/>\n",
              "    </g>\n",
              "</svg>\n",
              "  </button>\n",
              "\n",
              "<style>\n",
              "  .colab-df-quickchart {\n",
              "      --bg-color: #E8F0FE;\n",
              "      --fill-color: #1967D2;\n",
              "      --hover-bg-color: #E2EBFA;\n",
              "      --hover-fill-color: #174EA6;\n",
              "      --disabled-fill-color: #AAA;\n",
              "      --disabled-bg-color: #DDD;\n",
              "  }\n",
              "\n",
              "  [theme=dark] .colab-df-quickchart {\n",
              "      --bg-color: #3B4455;\n",
              "      --fill-color: #D2E3FC;\n",
              "      --hover-bg-color: #434B5C;\n",
              "      --hover-fill-color: #FFFFFF;\n",
              "      --disabled-bg-color: #3B4455;\n",
              "      --disabled-fill-color: #666;\n",
              "  }\n",
              "\n",
              "  .colab-df-quickchart {\n",
              "    background-color: var(--bg-color);\n",
              "    border: none;\n",
              "    border-radius: 50%;\n",
              "    cursor: pointer;\n",
              "    display: none;\n",
              "    fill: var(--fill-color);\n",
              "    height: 32px;\n",
              "    padding: 0;\n",
              "    width: 32px;\n",
              "  }\n",
              "\n",
              "  .colab-df-quickchart:hover {\n",
              "    background-color: var(--hover-bg-color);\n",
              "    box-shadow: 0 1px 2px rgba(60, 64, 67, 0.3), 0 1px 3px 1px rgba(60, 64, 67, 0.15);\n",
              "    fill: var(--button-hover-fill-color);\n",
              "  }\n",
              "\n",
              "  .colab-df-quickchart-complete:disabled,\n",
              "  .colab-df-quickchart-complete:disabled:hover {\n",
              "    background-color: var(--disabled-bg-color);\n",
              "    fill: var(--disabled-fill-color);\n",
              "    box-shadow: none;\n",
              "  }\n",
              "\n",
              "  .colab-df-spinner {\n",
              "    border: 2px solid var(--fill-color);\n",
              "    border-color: transparent;\n",
              "    border-bottom-color: var(--fill-color);\n",
              "    animation:\n",
              "      spin 1s steps(1) infinite;\n",
              "  }\n",
              "\n",
              "  @keyframes spin {\n",
              "    0% {\n",
              "      border-color: transparent;\n",
              "      border-bottom-color: var(--fill-color);\n",
              "      border-left-color: var(--fill-color);\n",
              "    }\n",
              "    20% {\n",
              "      border-color: transparent;\n",
              "      border-left-color: var(--fill-color);\n",
              "      border-top-color: var(--fill-color);\n",
              "    }\n",
              "    30% {\n",
              "      border-color: transparent;\n",
              "      border-left-color: var(--fill-color);\n",
              "      border-top-color: var(--fill-color);\n",
              "      border-right-color: var(--fill-color);\n",
              "    }\n",
              "    40% {\n",
              "      border-color: transparent;\n",
              "      border-right-color: var(--fill-color);\n",
              "      border-top-color: var(--fill-color);\n",
              "    }\n",
              "    60% {\n",
              "      border-color: transparent;\n",
              "      border-right-color: var(--fill-color);\n",
              "    }\n",
              "    80% {\n",
              "      border-color: transparent;\n",
              "      border-right-color: var(--fill-color);\n",
              "      border-bottom-color: var(--fill-color);\n",
              "    }\n",
              "    90% {\n",
              "      border-color: transparent;\n",
              "      border-bottom-color: var(--fill-color);\n",
              "    }\n",
              "  }\n",
              "</style>\n",
              "\n",
              "  <script>\n",
              "    async function quickchart(key) {\n",
              "      const quickchartButtonEl =\n",
              "        document.querySelector('#' + key + ' button');\n",
              "      quickchartButtonEl.disabled = true;  // To prevent multiple clicks.\n",
              "      quickchartButtonEl.classList.add('colab-df-spinner');\n",
              "      try {\n",
              "        const charts = await google.colab.kernel.invokeFunction(\n",
              "            'suggestCharts', [key], {});\n",
              "      } catch (error) {\n",
              "        console.error('Error during call to suggestCharts:', error);\n",
              "      }\n",
              "      quickchartButtonEl.classList.remove('colab-df-spinner');\n",
              "      quickchartButtonEl.classList.add('colab-df-quickchart-complete');\n",
              "    }\n",
              "    (() => {\n",
              "      let quickchartButtonEl =\n",
              "        document.querySelector('#df-bab9e625-2654-4d4c-8e87-b09e97a423fc button');\n",
              "      quickchartButtonEl.style.display =\n",
              "        google.colab.kernel.accessAllowed ? 'block' : 'none';\n",
              "    })();\n",
              "  </script>\n",
              "</div>\n",
              "    </div>\n",
              "  </div>\n"
            ],
            "application/vnd.google.colaboratory.intrinsic+json": {
              "type": "dataframe",
              "variable_name": "data",
              "summary": "{\n  \"name\": \"data\",\n  \"rows\": 59889,\n  \"fields\": [\n    {\n      \"column\": \"id\",\n      \"properties\": {\n        \"dtype\": \"number\",\n        \"std\": 127308,\n        \"min\": 2947909,\n        \"max\": 3379083,\n        \"num_unique_values\": 59889,\n        \"samples\": [\n          3315301,\n          3372310,\n          3294518\n        ],\n        \"semantic_type\": \"\",\n        \"description\": \"\"\n      }\n    },\n    {\n      \"column\": \"public_petition_text\",\n      \"properties\": {\n        \"dtype\": \"string\",\n        \"num_unique_values\": 43140,\n        \"samples\": [\n          \"\\u0411\\u043e\\u043b\\u044c\\u0448\\u0435 \\u043c\\u0435\\u0441\\u044f\\u0446\\u0430 \\u043d\\u0435 \\u0440\\u0430\\u0431\\u043e\\u0442\\u0430\\u0435\\u0442 \\u0433\\u0440\\u0443\\u0437\\u043e\\u0432\\u043e\\u0439 \\u043b\\u0438\\u0444\\u0442 6457. \\u041e\\u0431\\u0435\\u0449\\u0430\\u043d\\u043d\\u044b\\u0439 \\u0441\\u0440\\u043e\\u043a \\u0440\\u0435\\u043c\\u043e\\u043d\\u0442\\u0430 \\u043f\\u0440\\u043e\\u0448\\u0451\\u043b 22.02.2021. \\u041b\\u0438\\u0444\\u0442 \\u043d\\u0435 \\u0440\\u0430\\u0431\\u043e\\u0442\\u0430\\u0435\\u0442, \\u043d\\u043e\\u0432\\u044b\\u0445 \\u0441\\u0440\\u043e\\u043a\\u043e\\u0432 \\u043d\\u0435\\u0442.\",\n          \"\\u0412\\u043d\\u043e\\u0432\\u044c \\u043f\\u043e\\u044f\\u0432\\u0438\\u043b\\u0430\\u0441\\u044c \\u043d\\u0430\\u0434\\u043f\\u0438\\u0441\\u044c \\u043d\\u0430 \\u043f\\u0435\\u0440\\u0432\\u043e\\u043c \\u044d\\u0442\\u0430\\u0436\\u0435 \\u0432 7 \\u043f\\u0430\\u0440\\u0430\\u0434\\u043d\\u043e\\u0439\",\n          \"\\u0417\\u0430\\u043f\\u043b\\u0430\\u0442\\u043a\\u0430 \\u0434\\u043e\\u0440\\u043e\\u0433\\u0438 \\u043f\\u0440\\u043e\\u0441\\u0435\\u0434\\u0430\\u0435\\u0442\"\n        ],\n        \"semantic_type\": \"\",\n        \"description\": \"\"\n      }\n    },\n    {\n      \"column\": \"reason_category\",\n      \"properties\": {\n        \"dtype\": \"category\",\n        \"num_unique_values\": 15,\n        \"samples\": [\n          \"\\u041d\\u0430\\u0440\\u0443\\u0448\\u0435\\u043d\\u0438\\u0435 \\u043f\\u043e\\u0440\\u044f\\u0434\\u043a\\u0430 \\u043f\\u043e\\u043b\\u044c\\u0437\\u043e\\u0432\\u0430\\u043d\\u0438\\u044f \\u043e\\u0431\\u0449\\u0438\\u043c \\u0438\\u043c\\u0443\\u0449\\u0435\\u0441\\u0442\\u0432\\u043e\\u043c\",\n          \"\\u0412\\u043e\\u0434\\u043e\\u043e\\u0442\\u0432\\u0435\\u0434\\u0435\\u043d\\u0438\\u0435\",\n          \"\\u0411\\u043b\\u0430\\u0433\\u043e\\u0443\\u0441\\u0442\\u0440\\u043e\\u0439\\u0441\\u0442\\u0432\\u043e\"\n        ],\n        \"semantic_type\": \"\",\n        \"description\": \"\"\n      }\n    }\n  ]\n}"
            }
          },
          "metadata": {},
          "execution_count": 2
        }
      ]
    },
    {
      "cell_type": "markdown",
      "source": [
        "Удаляем пустые строки"
      ],
      "metadata": {
        "id": "7vfHaLYU-QUF"
      }
    },
    {
      "cell_type": "code",
      "source": [
        "data = data.dropna()\n",
        "data = data.drop_duplicates()\n",
        "data.info()"
      ],
      "metadata": {
        "colab": {
          "base_uri": "https://localhost:8080/"
        },
        "id": "SrcTajt3-UXE",
        "outputId": "69e521b7-b07c-4da4-8d3d-ba3e88d28f70"
      },
      "execution_count": 5,
      "outputs": [
        {
          "output_type": "stream",
          "name": "stdout",
          "text": [
            "<class 'pandas.core.frame.DataFrame'>\n",
            "Index: 43336 entries, 0 to 59888\n",
            "Data columns (total 2 columns):\n",
            " #   Column                Non-Null Count  Dtype \n",
            "---  ------                --------------  ----- \n",
            " 0   public_petition_text  43336 non-null  object\n",
            " 1   reason_category       43336 non-null  object\n",
            "dtypes: object(2)\n",
            "memory usage: 1015.7+ KB\n"
          ]
        }
      ]
    },
    {
      "cell_type": "markdown",
      "source": [
        "Фильтрация данных (берем 30000 примеров)"
      ],
      "metadata": {
        "id": "BqbaD0Qe-xko"
      }
    },
    {
      "cell_type": "code",
      "source": [
        "sample_size = 30000\n",
        "data_sample = data.sample(n=sample_size, random_state=42)\n",
        "data_sample"
      ],
      "metadata": {
        "colab": {
          "base_uri": "https://localhost:8080/",
          "height": 423
        },
        "id": "KUvRrSOh-25w",
        "outputId": "292f60c8-6305-49bf-b3b6-b96821b25afe"
      },
      "execution_count": 6,
      "outputs": [
        {
          "output_type": "execute_result",
          "data": {
            "text/plain": [
              "                                    public_petition_text       reason_category\n",
              "4093   улица Геологическая 75, рядом с корпусом 6, на...       Благоустройство\n",
              "42921  Здравствуйте.\\nВ нашес доме, по адресу: Короле...  Санитарное состояние\n",
              "20237  В новом лифте 1 парадной освещение не проработ...        Содержание МКД\n",
              "7948   Добрый день, уважаемый исполнитель! Выявлены н...       Благоустройство\n",
              "22523                       вся дорога в ОГРОМНЫХ ямищах       Благоустройство\n",
              "...                                                  ...                   ...\n",
              "28482  Наличие сухих высоких деревьев, опасный наклон...       Благоустройство\n",
              "45951        Вырезан кусок асвальта пешеходного тратуара       Благоустройство\n",
              "8136    Мешок лежит на газоне у остановки не первый день       Благоустройство\n",
              "26                                              Очистить       Благоустройство\n",
              "6941                       Требуется дератизация подвала  Санитарное состояние\n",
              "\n",
              "[30000 rows x 2 columns]"
            ],
            "text/html": [
              "\n",
              "  <div id=\"df-00fb8f46-9502-4b92-bdbe-ed662c218a3b\" class=\"colab-df-container\">\n",
              "    <div>\n",
              "<style scoped>\n",
              "    .dataframe tbody tr th:only-of-type {\n",
              "        vertical-align: middle;\n",
              "    }\n",
              "\n",
              "    .dataframe tbody tr th {\n",
              "        vertical-align: top;\n",
              "    }\n",
              "\n",
              "    .dataframe thead th {\n",
              "        text-align: right;\n",
              "    }\n",
              "</style>\n",
              "<table border=\"1\" class=\"dataframe\">\n",
              "  <thead>\n",
              "    <tr style=\"text-align: right;\">\n",
              "      <th></th>\n",
              "      <th>public_petition_text</th>\n",
              "      <th>reason_category</th>\n",
              "    </tr>\n",
              "  </thead>\n",
              "  <tbody>\n",
              "    <tr>\n",
              "      <th>4093</th>\n",
              "      <td>улица Геологическая 75, рядом с корпусом 6, на...</td>\n",
              "      <td>Благоустройство</td>\n",
              "    </tr>\n",
              "    <tr>\n",
              "      <th>42921</th>\n",
              "      <td>Здравствуйте.\\nВ нашес доме, по адресу: Короле...</td>\n",
              "      <td>Санитарное состояние</td>\n",
              "    </tr>\n",
              "    <tr>\n",
              "      <th>20237</th>\n",
              "      <td>В новом лифте 1 парадной освещение не проработ...</td>\n",
              "      <td>Содержание МКД</td>\n",
              "    </tr>\n",
              "    <tr>\n",
              "      <th>7948</th>\n",
              "      <td>Добрый день, уважаемый исполнитель! Выявлены н...</td>\n",
              "      <td>Благоустройство</td>\n",
              "    </tr>\n",
              "    <tr>\n",
              "      <th>22523</th>\n",
              "      <td>вся дорога в ОГРОМНЫХ ямищах</td>\n",
              "      <td>Благоустройство</td>\n",
              "    </tr>\n",
              "    <tr>\n",
              "      <th>...</th>\n",
              "      <td>...</td>\n",
              "      <td>...</td>\n",
              "    </tr>\n",
              "    <tr>\n",
              "      <th>28482</th>\n",
              "      <td>Наличие сухих высоких деревьев, опасный наклон...</td>\n",
              "      <td>Благоустройство</td>\n",
              "    </tr>\n",
              "    <tr>\n",
              "      <th>45951</th>\n",
              "      <td>Вырезан кусок асвальта пешеходного тратуара</td>\n",
              "      <td>Благоустройство</td>\n",
              "    </tr>\n",
              "    <tr>\n",
              "      <th>8136</th>\n",
              "      <td>Мешок лежит на газоне у остановки не первый день</td>\n",
              "      <td>Благоустройство</td>\n",
              "    </tr>\n",
              "    <tr>\n",
              "      <th>26</th>\n",
              "      <td>Очистить</td>\n",
              "      <td>Благоустройство</td>\n",
              "    </tr>\n",
              "    <tr>\n",
              "      <th>6941</th>\n",
              "      <td>Требуется дератизация подвала</td>\n",
              "      <td>Санитарное состояние</td>\n",
              "    </tr>\n",
              "  </tbody>\n",
              "</table>\n",
              "<p>30000 rows × 2 columns</p>\n",
              "</div>\n",
              "    <div class=\"colab-df-buttons\">\n",
              "\n",
              "  <div class=\"colab-df-container\">\n",
              "    <button class=\"colab-df-convert\" onclick=\"convertToInteractive('df-00fb8f46-9502-4b92-bdbe-ed662c218a3b')\"\n",
              "            title=\"Convert this dataframe to an interactive table.\"\n",
              "            style=\"display:none;\">\n",
              "\n",
              "  <svg xmlns=\"http://www.w3.org/2000/svg\" height=\"24px\" viewBox=\"0 -960 960 960\">\n",
              "    <path d=\"M120-120v-720h720v720H120Zm60-500h600v-160H180v160Zm220 220h160v-160H400v160Zm0 220h160v-160H400v160ZM180-400h160v-160H180v160Zm440 0h160v-160H620v160ZM180-180h160v-160H180v160Zm440 0h160v-160H620v160Z\"/>\n",
              "  </svg>\n",
              "    </button>\n",
              "\n",
              "  <style>\n",
              "    .colab-df-container {\n",
              "      display:flex;\n",
              "      gap: 12px;\n",
              "    }\n",
              "\n",
              "    .colab-df-convert {\n",
              "      background-color: #E8F0FE;\n",
              "      border: none;\n",
              "      border-radius: 50%;\n",
              "      cursor: pointer;\n",
              "      display: none;\n",
              "      fill: #1967D2;\n",
              "      height: 32px;\n",
              "      padding: 0 0 0 0;\n",
              "      width: 32px;\n",
              "    }\n",
              "\n",
              "    .colab-df-convert:hover {\n",
              "      background-color: #E2EBFA;\n",
              "      box-shadow: 0px 1px 2px rgba(60, 64, 67, 0.3), 0px 1px 3px 1px rgba(60, 64, 67, 0.15);\n",
              "      fill: #174EA6;\n",
              "    }\n",
              "\n",
              "    .colab-df-buttons div {\n",
              "      margin-bottom: 4px;\n",
              "    }\n",
              "\n",
              "    [theme=dark] .colab-df-convert {\n",
              "      background-color: #3B4455;\n",
              "      fill: #D2E3FC;\n",
              "    }\n",
              "\n",
              "    [theme=dark] .colab-df-convert:hover {\n",
              "      background-color: #434B5C;\n",
              "      box-shadow: 0px 1px 3px 1px rgba(0, 0, 0, 0.15);\n",
              "      filter: drop-shadow(0px 1px 2px rgba(0, 0, 0, 0.3));\n",
              "      fill: #FFFFFF;\n",
              "    }\n",
              "  </style>\n",
              "\n",
              "    <script>\n",
              "      const buttonEl =\n",
              "        document.querySelector('#df-00fb8f46-9502-4b92-bdbe-ed662c218a3b button.colab-df-convert');\n",
              "      buttonEl.style.display =\n",
              "        google.colab.kernel.accessAllowed ? 'block' : 'none';\n",
              "\n",
              "      async function convertToInteractive(key) {\n",
              "        const element = document.querySelector('#df-00fb8f46-9502-4b92-bdbe-ed662c218a3b');\n",
              "        const dataTable =\n",
              "          await google.colab.kernel.invokeFunction('convertToInteractive',\n",
              "                                                    [key], {});\n",
              "        if (!dataTable) return;\n",
              "\n",
              "        const docLinkHtml = 'Like what you see? Visit the ' +\n",
              "          '<a target=\"_blank\" href=https://colab.research.google.com/notebooks/data_table.ipynb>data table notebook</a>'\n",
              "          + ' to learn more about interactive tables.';\n",
              "        element.innerHTML = '';\n",
              "        dataTable['output_type'] = 'display_data';\n",
              "        await google.colab.output.renderOutput(dataTable, element);\n",
              "        const docLink = document.createElement('div');\n",
              "        docLink.innerHTML = docLinkHtml;\n",
              "        element.appendChild(docLink);\n",
              "      }\n",
              "    </script>\n",
              "  </div>\n",
              "\n",
              "\n",
              "<div id=\"df-be262154-f37d-499c-9e01-5494415e5f0b\">\n",
              "  <button class=\"colab-df-quickchart\" onclick=\"quickchart('df-be262154-f37d-499c-9e01-5494415e5f0b')\"\n",
              "            title=\"Suggest charts\"\n",
              "            style=\"display:none;\">\n",
              "\n",
              "<svg xmlns=\"http://www.w3.org/2000/svg\" height=\"24px\"viewBox=\"0 0 24 24\"\n",
              "     width=\"24px\">\n",
              "    <g>\n",
              "        <path d=\"M19 3H5c-1.1 0-2 .9-2 2v14c0 1.1.9 2 2 2h14c1.1 0 2-.9 2-2V5c0-1.1-.9-2-2-2zM9 17H7v-7h2v7zm4 0h-2V7h2v10zm4 0h-2v-4h2v4z\"/>\n",
              "    </g>\n",
              "</svg>\n",
              "  </button>\n",
              "\n",
              "<style>\n",
              "  .colab-df-quickchart {\n",
              "      --bg-color: #E8F0FE;\n",
              "      --fill-color: #1967D2;\n",
              "      --hover-bg-color: #E2EBFA;\n",
              "      --hover-fill-color: #174EA6;\n",
              "      --disabled-fill-color: #AAA;\n",
              "      --disabled-bg-color: #DDD;\n",
              "  }\n",
              "\n",
              "  [theme=dark] .colab-df-quickchart {\n",
              "      --bg-color: #3B4455;\n",
              "      --fill-color: #D2E3FC;\n",
              "      --hover-bg-color: #434B5C;\n",
              "      --hover-fill-color: #FFFFFF;\n",
              "      --disabled-bg-color: #3B4455;\n",
              "      --disabled-fill-color: #666;\n",
              "  }\n",
              "\n",
              "  .colab-df-quickchart {\n",
              "    background-color: var(--bg-color);\n",
              "    border: none;\n",
              "    border-radius: 50%;\n",
              "    cursor: pointer;\n",
              "    display: none;\n",
              "    fill: var(--fill-color);\n",
              "    height: 32px;\n",
              "    padding: 0;\n",
              "    width: 32px;\n",
              "  }\n",
              "\n",
              "  .colab-df-quickchart:hover {\n",
              "    background-color: var(--hover-bg-color);\n",
              "    box-shadow: 0 1px 2px rgba(60, 64, 67, 0.3), 0 1px 3px 1px rgba(60, 64, 67, 0.15);\n",
              "    fill: var(--button-hover-fill-color);\n",
              "  }\n",
              "\n",
              "  .colab-df-quickchart-complete:disabled,\n",
              "  .colab-df-quickchart-complete:disabled:hover {\n",
              "    background-color: var(--disabled-bg-color);\n",
              "    fill: var(--disabled-fill-color);\n",
              "    box-shadow: none;\n",
              "  }\n",
              "\n",
              "  .colab-df-spinner {\n",
              "    border: 2px solid var(--fill-color);\n",
              "    border-color: transparent;\n",
              "    border-bottom-color: var(--fill-color);\n",
              "    animation:\n",
              "      spin 1s steps(1) infinite;\n",
              "  }\n",
              "\n",
              "  @keyframes spin {\n",
              "    0% {\n",
              "      border-color: transparent;\n",
              "      border-bottom-color: var(--fill-color);\n",
              "      border-left-color: var(--fill-color);\n",
              "    }\n",
              "    20% {\n",
              "      border-color: transparent;\n",
              "      border-left-color: var(--fill-color);\n",
              "      border-top-color: var(--fill-color);\n",
              "    }\n",
              "    30% {\n",
              "      border-color: transparent;\n",
              "      border-left-color: var(--fill-color);\n",
              "      border-top-color: var(--fill-color);\n",
              "      border-right-color: var(--fill-color);\n",
              "    }\n",
              "    40% {\n",
              "      border-color: transparent;\n",
              "      border-right-color: var(--fill-color);\n",
              "      border-top-color: var(--fill-color);\n",
              "    }\n",
              "    60% {\n",
              "      border-color: transparent;\n",
              "      border-right-color: var(--fill-color);\n",
              "    }\n",
              "    80% {\n",
              "      border-color: transparent;\n",
              "      border-right-color: var(--fill-color);\n",
              "      border-bottom-color: var(--fill-color);\n",
              "    }\n",
              "    90% {\n",
              "      border-color: transparent;\n",
              "      border-bottom-color: var(--fill-color);\n",
              "    }\n",
              "  }\n",
              "</style>\n",
              "\n",
              "  <script>\n",
              "    async function quickchart(key) {\n",
              "      const quickchartButtonEl =\n",
              "        document.querySelector('#' + key + ' button');\n",
              "      quickchartButtonEl.disabled = true;  // To prevent multiple clicks.\n",
              "      quickchartButtonEl.classList.add('colab-df-spinner');\n",
              "      try {\n",
              "        const charts = await google.colab.kernel.invokeFunction(\n",
              "            'suggestCharts', [key], {});\n",
              "      } catch (error) {\n",
              "        console.error('Error during call to suggestCharts:', error);\n",
              "      }\n",
              "      quickchartButtonEl.classList.remove('colab-df-spinner');\n",
              "      quickchartButtonEl.classList.add('colab-df-quickchart-complete');\n",
              "    }\n",
              "    (() => {\n",
              "      let quickchartButtonEl =\n",
              "        document.querySelector('#df-be262154-f37d-499c-9e01-5494415e5f0b button');\n",
              "      quickchartButtonEl.style.display =\n",
              "        google.colab.kernel.accessAllowed ? 'block' : 'none';\n",
              "    })();\n",
              "  </script>\n",
              "</div>\n",
              "    </div>\n",
              "  </div>\n"
            ],
            "application/vnd.google.colaboratory.intrinsic+json": {
              "type": "dataframe",
              "variable_name": "data_sample",
              "summary": "{\n  \"name\": \"data_sample\",\n  \"rows\": 30000,\n  \"fields\": [\n    {\n      \"column\": \"public_petition_text\",\n      \"properties\": {\n        \"dtype\": \"string\",\n        \"num_unique_values\": 29910,\n        \"samples\": [\n          \"\\u041d\\u0435\\u0442 \\u0433\\u0440\\u0430\\u0444\\u0438\\u043a\\u0430 \\u0443\\u0431\\u043e\\u0440\\u043a\\u0438\",\n          \"\\u041d\\u0435\\u043e\\u0431\\u0445\\u043e\\u0434\\u0438\\u043c\\u043e \\u0434\\u0435\\u043c\\u043e\\u043d\\u0441\\u0442\\u0440\\u0438\\u0440\\u043e\\u0432\\u0430\\u0442\\u044c \\u043d\\u0435\\u0437\\u0430\\u043a\\u043e\\u043d\\u043d\\u0443\\u044e \\u0440\\u0435\\u043a\\u043b\\u0430\\u043c\\u043d\\u0443\\u044e \\u043a\\u043e\\u043d\\u0441\\u0442\\u0440\\u0443\\u043a\\u0446\\u0438\\u044e\",\n          \"\\u0442\\u0440\\u0435\\u0431\\u0443\\u0435\\u0442\\u0441\\u044f \\u043e\\u0447\\u0438\\u0441\\u0442\\u043a\\u0430 \\u043e\\u0442 \\u0441\\u043d\\u0435\\u0433\\u0430 \\u0442\\u0440\\u043e\\u0442\\u0443\\u0430\\u0440\\u0430  \\u0437\\u0430 \\u0434\\u043e\\u043c\\u043e\\u043c 124, \\u043a\\u043e\\u0440\\u043f\\u0443\\u0441 1\"\n        ],\n        \"semantic_type\": \"\",\n        \"description\": \"\"\n      }\n    },\n    {\n      \"column\": \"reason_category\",\n      \"properties\": {\n        \"dtype\": \"category\",\n        \"num_unique_values\": 15,\n        \"samples\": [\n          \"\\u041d\\u0435\\u0437\\u0430\\u043a\\u043e\\u043d\\u043d\\u0430\\u044f \\u0438\\u043d\\u0444\\u043e\\u0440\\u043c\\u0430\\u0446\\u0438\\u043e\\u043d\\u043d\\u0430\\u044f \\u0438 (\\u0438\\u043b\\u0438) \\u0440\\u0435\\u043a\\u043b\\u0430\\u043c\\u043d\\u0430\\u044f \\u043a\\u043e\\u043d\\u0441\\u0442\\u0440\\u0443\\u043a\\u0446\\u0438\\u044f\",\n          \"\\u0412\\u043e\\u0434\\u043e\\u0441\\u043d\\u0430\\u0431\\u0436\\u0435\\u043d\\u0438\\u0435\",\n          \"\\u0411\\u043b\\u0430\\u0433\\u043e\\u0443\\u0441\\u0442\\u0440\\u043e\\u0439\\u0441\\u0442\\u0432\\u043e\"\n        ],\n        \"semantic_type\": \"\",\n        \"description\": \"\"\n      }\n    }\n  ]\n}"
            }
          },
          "metadata": {},
          "execution_count": 6
        }
      ]
    },
    {
      "cell_type": "markdown",
      "source": [
        "# Предварительная обработка"
      ],
      "metadata": {
        "id": "TIFxu3LJ_glP"
      }
    },
    {
      "cell_type": "code",
      "source": [
        "import re\n",
        "from nltk.corpus import stopwords\n",
        "from nltk.tokenize import word_tokenize\n",
        "from nltk.stem import WordNetLemmatizer\n",
        "import nltk\n",
        "\n",
        "nltk.download('punkt_tab')\n",
        "nltk.download('punkt')\n",
        "nltk.download('stopwords')\n",
        "nltk.download('wordnet')"
      ],
      "metadata": {
        "colab": {
          "base_uri": "https://localhost:8080/"
        },
        "id": "JYxtWv3b_5x3",
        "outputId": "4ff242fc-afa9-4969-bcad-7937dd3948a1"
      },
      "execution_count": 14,
      "outputs": [
        {
          "output_type": "stream",
          "name": "stderr",
          "text": [
            "[nltk_data] Downloading package punkt_tab to /root/nltk_data...\n",
            "[nltk_data]   Unzipping tokenizers/punkt_tab.zip.\n",
            "[nltk_data] Downloading package punkt to /root/nltk_data...\n",
            "[nltk_data]   Package punkt is already up-to-date!\n",
            "[nltk_data] Downloading package stopwords to /root/nltk_data...\n",
            "[nltk_data]   Package stopwords is already up-to-date!\n",
            "[nltk_data] Downloading package wordnet to /root/nltk_data...\n",
            "[nltk_data]   Package wordnet is already up-to-date!\n"
          ]
        },
        {
          "output_type": "execute_result",
          "data": {
            "text/plain": [
              "True"
            ]
          },
          "metadata": {},
          "execution_count": 14
        }
      ]
    },
    {
      "cell_type": "code",
      "source": [
        "stop_words = set(stopwords.words('russian'))\n",
        "lemmatizer = WordNetLemmatizer()"
      ],
      "metadata": {
        "id": "qdpKOsIFAJwL"
      },
      "execution_count": 9,
      "outputs": []
    },
    {
      "cell_type": "markdown",
      "source": [
        "Функция предварительной обработки текста"
      ],
      "metadata": {
        "id": "wUO_cDVXBXtL"
      }
    },
    {
      "cell_type": "code",
      "source": [
        "!pip install num2words\n",
        "from num2words import num2words"
      ],
      "metadata": {
        "colab": {
          "base_uri": "https://localhost:8080/"
        },
        "id": "_dTw9vTOE1DU",
        "outputId": "ea02b8d5-3fb0-49be-cb9c-e2b7620070ce"
      },
      "execution_count": 11,
      "outputs": [
        {
          "output_type": "stream",
          "name": "stdout",
          "text": [
            "Collecting num2words\n",
            "  Downloading num2words-0.5.13-py3-none-any.whl.metadata (12 kB)\n",
            "Collecting docopt>=0.6.2 (from num2words)\n",
            "  Downloading docopt-0.6.2.tar.gz (25 kB)\n",
            "  Preparing metadata (setup.py) ... \u001b[?25l\u001b[?25hdone\n",
            "Downloading num2words-0.5.13-py3-none-any.whl (143 kB)\n",
            "\u001b[2K   \u001b[90m━━━━━━━━━━━━━━━━━━━━━━━━━━━━━━━━━━━━━━━━\u001b[0m \u001b[32m143.3/143.3 kB\u001b[0m \u001b[31m4.3 MB/s\u001b[0m eta \u001b[36m0:00:00\u001b[0m\n",
            "\u001b[?25hBuilding wheels for collected packages: docopt\n",
            "  Building wheel for docopt (setup.py) ... \u001b[?25l\u001b[?25hdone\n",
            "  Created wheel for docopt: filename=docopt-0.6.2-py2.py3-none-any.whl size=13706 sha256=ca610b0ea0ab3b1fd4ed67bc97910bcc52b5cddbc785fcf138df680486eab726\n",
            "  Stored in directory: /root/.cache/pip/wheels/fc/ab/d4/5da2067ac95b36618c629a5f93f809425700506f72c9732fac\n",
            "Successfully built docopt\n",
            "Installing collected packages: docopt, num2words\n",
            "Successfully installed docopt-0.6.2 num2words-0.5.13\n"
          ]
        }
      ]
    },
    {
      "cell_type": "code",
      "source": [
        "def preprocess_text(text):\n",
        "    text = text.lower()\n",
        "    http = r\"http[s]?://(?:[a-zA-Z]|[0-9]|[$-_@.&+]|[!*,]|(?:%[0-9a-fA-F][0-9a-fA-F]))+\"\n",
        "    text = re.sub(http, \"\", text)\n",
        "    text = re.sub('\\S+@\\S+\\.\\S+', '', text)\n",
        "    text = re.sub('\\+?[1-9][0-9]{10}', '', text)\n",
        "    text = re.sub(r\"\\d+\", lambda match: \" \" + num2words(int(match.group(0)), lang=\"ru\") + \" \", text)\n",
        "    text = re.sub(r\"\\bд\\b\", \"дом\", text)\n",
        "    text = re.sub(r\"\\bкв\\b\", \"квартира\", text)\n",
        "    text = re.sub(r\"\\bул\\b\", \"улица\", text)\n",
        "    text = re.sub(r\"\\bк\\b\", \"квартира\", text)\n",
        "    text = re.sub('[^\\s^\\w]+', '', text)\n",
        "    text = re.sub(r\"[^а-яА-ЯёЁ\\s]\", \"\", text)\n",
        "    text = re.sub(r\"\\n\", \"\", text)\n",
        "    text = re.sub(r'\\W', ' ', text)\n",
        "    text = re.sub(r'\\d', '', text)\n",
        "    text = re.sub(r'\\s+', ' ', text).strip()\n",
        "\n",
        "    tokens = word_tokenize(text)\n",
        "\n",
        "    tokens = [lemmatizer.lemmatize(word) for word in tokens if word not in stop_words]\n",
        "\n",
        "    return tokens"
      ],
      "metadata": {
        "id": "Wp_Wv57gBYPj"
      },
      "execution_count": 12,
      "outputs": []
    },
    {
      "cell_type": "code",
      "source": [
        "data_sample['public_petition_text'] = data_sample['public_petition_text'].apply(preprocess_text)\n",
        "data_sample"
      ],
      "metadata": {
        "colab": {
          "base_uri": "https://localhost:8080/",
          "height": 423
        },
        "id": "PjrydJGJBgI7",
        "outputId": "4b514eeb-03fe-4d98-ac49-2820cf25ee3f"
      },
      "execution_count": 15,
      "outputs": [
        {
          "output_type": "execute_result",
          "data": {
            "text/plain": [
              "                                    public_petition_text       reason_category\n",
              "4093   [улица, геологическая, семьдесят, пять, рядом,...       Благоустройство\n",
              "42921  [здравствуйтев, нашес, доме, адресу, королева,...  Санитарное состояние\n",
              "20237  [новом, лифте, парадной, освещение, проработал...        Содержание МКД\n",
              "7948   [добрый, день, уважаемый, исполнитель, выявлен...       Благоустройство\n",
              "22523                    [вся, дорога, огромных, ямищах]       Благоустройство\n",
              "...                                                  ...                   ...\n",
              "28482  [наличие, сухих, высоких, деревьев, опасный, н...       Благоустройство\n",
              "45951  [вырезан, кусок, асвальта, пешеходного, тратуара]       Благоустройство\n",
              "8136     [мешок, лежит, газоне, остановки, первый, день]       Благоустройство\n",
              "26                                            [очистить]       Благоустройство\n",
              "6941                   [требуется, дератизация, подвала]  Санитарное состояние\n",
              "\n",
              "[30000 rows x 2 columns]"
            ],
            "text/html": [
              "\n",
              "  <div id=\"df-f39096ac-12a1-4d81-ba8e-0efc42464e90\" class=\"colab-df-container\">\n",
              "    <div>\n",
              "<style scoped>\n",
              "    .dataframe tbody tr th:only-of-type {\n",
              "        vertical-align: middle;\n",
              "    }\n",
              "\n",
              "    .dataframe tbody tr th {\n",
              "        vertical-align: top;\n",
              "    }\n",
              "\n",
              "    .dataframe thead th {\n",
              "        text-align: right;\n",
              "    }\n",
              "</style>\n",
              "<table border=\"1\" class=\"dataframe\">\n",
              "  <thead>\n",
              "    <tr style=\"text-align: right;\">\n",
              "      <th></th>\n",
              "      <th>public_petition_text</th>\n",
              "      <th>reason_category</th>\n",
              "    </tr>\n",
              "  </thead>\n",
              "  <tbody>\n",
              "    <tr>\n",
              "      <th>4093</th>\n",
              "      <td>[улица, геологическая, семьдесят, пять, рядом,...</td>\n",
              "      <td>Благоустройство</td>\n",
              "    </tr>\n",
              "    <tr>\n",
              "      <th>42921</th>\n",
              "      <td>[здравствуйтев, нашес, доме, адресу, королева,...</td>\n",
              "      <td>Санитарное состояние</td>\n",
              "    </tr>\n",
              "    <tr>\n",
              "      <th>20237</th>\n",
              "      <td>[новом, лифте, парадной, освещение, проработал...</td>\n",
              "      <td>Содержание МКД</td>\n",
              "    </tr>\n",
              "    <tr>\n",
              "      <th>7948</th>\n",
              "      <td>[добрый, день, уважаемый, исполнитель, выявлен...</td>\n",
              "      <td>Благоустройство</td>\n",
              "    </tr>\n",
              "    <tr>\n",
              "      <th>22523</th>\n",
              "      <td>[вся, дорога, огромных, ямищах]</td>\n",
              "      <td>Благоустройство</td>\n",
              "    </tr>\n",
              "    <tr>\n",
              "      <th>...</th>\n",
              "      <td>...</td>\n",
              "      <td>...</td>\n",
              "    </tr>\n",
              "    <tr>\n",
              "      <th>28482</th>\n",
              "      <td>[наличие, сухих, высоких, деревьев, опасный, н...</td>\n",
              "      <td>Благоустройство</td>\n",
              "    </tr>\n",
              "    <tr>\n",
              "      <th>45951</th>\n",
              "      <td>[вырезан, кусок, асвальта, пешеходного, тратуара]</td>\n",
              "      <td>Благоустройство</td>\n",
              "    </tr>\n",
              "    <tr>\n",
              "      <th>8136</th>\n",
              "      <td>[мешок, лежит, газоне, остановки, первый, день]</td>\n",
              "      <td>Благоустройство</td>\n",
              "    </tr>\n",
              "    <tr>\n",
              "      <th>26</th>\n",
              "      <td>[очистить]</td>\n",
              "      <td>Благоустройство</td>\n",
              "    </tr>\n",
              "    <tr>\n",
              "      <th>6941</th>\n",
              "      <td>[требуется, дератизация, подвала]</td>\n",
              "      <td>Санитарное состояние</td>\n",
              "    </tr>\n",
              "  </tbody>\n",
              "</table>\n",
              "<p>30000 rows × 2 columns</p>\n",
              "</div>\n",
              "    <div class=\"colab-df-buttons\">\n",
              "\n",
              "  <div class=\"colab-df-container\">\n",
              "    <button class=\"colab-df-convert\" onclick=\"convertToInteractive('df-f39096ac-12a1-4d81-ba8e-0efc42464e90')\"\n",
              "            title=\"Convert this dataframe to an interactive table.\"\n",
              "            style=\"display:none;\">\n",
              "\n",
              "  <svg xmlns=\"http://www.w3.org/2000/svg\" height=\"24px\" viewBox=\"0 -960 960 960\">\n",
              "    <path d=\"M120-120v-720h720v720H120Zm60-500h600v-160H180v160Zm220 220h160v-160H400v160Zm0 220h160v-160H400v160ZM180-400h160v-160H180v160Zm440 0h160v-160H620v160ZM180-180h160v-160H180v160Zm440 0h160v-160H620v160Z\"/>\n",
              "  </svg>\n",
              "    </button>\n",
              "\n",
              "  <style>\n",
              "    .colab-df-container {\n",
              "      display:flex;\n",
              "      gap: 12px;\n",
              "    }\n",
              "\n",
              "    .colab-df-convert {\n",
              "      background-color: #E8F0FE;\n",
              "      border: none;\n",
              "      border-radius: 50%;\n",
              "      cursor: pointer;\n",
              "      display: none;\n",
              "      fill: #1967D2;\n",
              "      height: 32px;\n",
              "      padding: 0 0 0 0;\n",
              "      width: 32px;\n",
              "    }\n",
              "\n",
              "    .colab-df-convert:hover {\n",
              "      background-color: #E2EBFA;\n",
              "      box-shadow: 0px 1px 2px rgba(60, 64, 67, 0.3), 0px 1px 3px 1px rgba(60, 64, 67, 0.15);\n",
              "      fill: #174EA6;\n",
              "    }\n",
              "\n",
              "    .colab-df-buttons div {\n",
              "      margin-bottom: 4px;\n",
              "    }\n",
              "\n",
              "    [theme=dark] .colab-df-convert {\n",
              "      background-color: #3B4455;\n",
              "      fill: #D2E3FC;\n",
              "    }\n",
              "\n",
              "    [theme=dark] .colab-df-convert:hover {\n",
              "      background-color: #434B5C;\n",
              "      box-shadow: 0px 1px 3px 1px rgba(0, 0, 0, 0.15);\n",
              "      filter: drop-shadow(0px 1px 2px rgba(0, 0, 0, 0.3));\n",
              "      fill: #FFFFFF;\n",
              "    }\n",
              "  </style>\n",
              "\n",
              "    <script>\n",
              "      const buttonEl =\n",
              "        document.querySelector('#df-f39096ac-12a1-4d81-ba8e-0efc42464e90 button.colab-df-convert');\n",
              "      buttonEl.style.display =\n",
              "        google.colab.kernel.accessAllowed ? 'block' : 'none';\n",
              "\n",
              "      async function convertToInteractive(key) {\n",
              "        const element = document.querySelector('#df-f39096ac-12a1-4d81-ba8e-0efc42464e90');\n",
              "        const dataTable =\n",
              "          await google.colab.kernel.invokeFunction('convertToInteractive',\n",
              "                                                    [key], {});\n",
              "        if (!dataTable) return;\n",
              "\n",
              "        const docLinkHtml = 'Like what you see? Visit the ' +\n",
              "          '<a target=\"_blank\" href=https://colab.research.google.com/notebooks/data_table.ipynb>data table notebook</a>'\n",
              "          + ' to learn more about interactive tables.';\n",
              "        element.innerHTML = '';\n",
              "        dataTable['output_type'] = 'display_data';\n",
              "        await google.colab.output.renderOutput(dataTable, element);\n",
              "        const docLink = document.createElement('div');\n",
              "        docLink.innerHTML = docLinkHtml;\n",
              "        element.appendChild(docLink);\n",
              "      }\n",
              "    </script>\n",
              "  </div>\n",
              "\n",
              "\n",
              "<div id=\"df-787f7e48-153b-4556-996c-22cf913b4a5a\">\n",
              "  <button class=\"colab-df-quickchart\" onclick=\"quickchart('df-787f7e48-153b-4556-996c-22cf913b4a5a')\"\n",
              "            title=\"Suggest charts\"\n",
              "            style=\"display:none;\">\n",
              "\n",
              "<svg xmlns=\"http://www.w3.org/2000/svg\" height=\"24px\"viewBox=\"0 0 24 24\"\n",
              "     width=\"24px\">\n",
              "    <g>\n",
              "        <path d=\"M19 3H5c-1.1 0-2 .9-2 2v14c0 1.1.9 2 2 2h14c1.1 0 2-.9 2-2V5c0-1.1-.9-2-2-2zM9 17H7v-7h2v7zm4 0h-2V7h2v10zm4 0h-2v-4h2v4z\"/>\n",
              "    </g>\n",
              "</svg>\n",
              "  </button>\n",
              "\n",
              "<style>\n",
              "  .colab-df-quickchart {\n",
              "      --bg-color: #E8F0FE;\n",
              "      --fill-color: #1967D2;\n",
              "      --hover-bg-color: #E2EBFA;\n",
              "      --hover-fill-color: #174EA6;\n",
              "      --disabled-fill-color: #AAA;\n",
              "      --disabled-bg-color: #DDD;\n",
              "  }\n",
              "\n",
              "  [theme=dark] .colab-df-quickchart {\n",
              "      --bg-color: #3B4455;\n",
              "      --fill-color: #D2E3FC;\n",
              "      --hover-bg-color: #434B5C;\n",
              "      --hover-fill-color: #FFFFFF;\n",
              "      --disabled-bg-color: #3B4455;\n",
              "      --disabled-fill-color: #666;\n",
              "  }\n",
              "\n",
              "  .colab-df-quickchart {\n",
              "    background-color: var(--bg-color);\n",
              "    border: none;\n",
              "    border-radius: 50%;\n",
              "    cursor: pointer;\n",
              "    display: none;\n",
              "    fill: var(--fill-color);\n",
              "    height: 32px;\n",
              "    padding: 0;\n",
              "    width: 32px;\n",
              "  }\n",
              "\n",
              "  .colab-df-quickchart:hover {\n",
              "    background-color: var(--hover-bg-color);\n",
              "    box-shadow: 0 1px 2px rgba(60, 64, 67, 0.3), 0 1px 3px 1px rgba(60, 64, 67, 0.15);\n",
              "    fill: var(--button-hover-fill-color);\n",
              "  }\n",
              "\n",
              "  .colab-df-quickchart-complete:disabled,\n",
              "  .colab-df-quickchart-complete:disabled:hover {\n",
              "    background-color: var(--disabled-bg-color);\n",
              "    fill: var(--disabled-fill-color);\n",
              "    box-shadow: none;\n",
              "  }\n",
              "\n",
              "  .colab-df-spinner {\n",
              "    border: 2px solid var(--fill-color);\n",
              "    border-color: transparent;\n",
              "    border-bottom-color: var(--fill-color);\n",
              "    animation:\n",
              "      spin 1s steps(1) infinite;\n",
              "  }\n",
              "\n",
              "  @keyframes spin {\n",
              "    0% {\n",
              "      border-color: transparent;\n",
              "      border-bottom-color: var(--fill-color);\n",
              "      border-left-color: var(--fill-color);\n",
              "    }\n",
              "    20% {\n",
              "      border-color: transparent;\n",
              "      border-left-color: var(--fill-color);\n",
              "      border-top-color: var(--fill-color);\n",
              "    }\n",
              "    30% {\n",
              "      border-color: transparent;\n",
              "      border-left-color: var(--fill-color);\n",
              "      border-top-color: var(--fill-color);\n",
              "      border-right-color: var(--fill-color);\n",
              "    }\n",
              "    40% {\n",
              "      border-color: transparent;\n",
              "      border-right-color: var(--fill-color);\n",
              "      border-top-color: var(--fill-color);\n",
              "    }\n",
              "    60% {\n",
              "      border-color: transparent;\n",
              "      border-right-color: var(--fill-color);\n",
              "    }\n",
              "    80% {\n",
              "      border-color: transparent;\n",
              "      border-right-color: var(--fill-color);\n",
              "      border-bottom-color: var(--fill-color);\n",
              "    }\n",
              "    90% {\n",
              "      border-color: transparent;\n",
              "      border-bottom-color: var(--fill-color);\n",
              "    }\n",
              "  }\n",
              "</style>\n",
              "\n",
              "  <script>\n",
              "    async function quickchart(key) {\n",
              "      const quickchartButtonEl =\n",
              "        document.querySelector('#' + key + ' button');\n",
              "      quickchartButtonEl.disabled = true;  // To prevent multiple clicks.\n",
              "      quickchartButtonEl.classList.add('colab-df-spinner');\n",
              "      try {\n",
              "        const charts = await google.colab.kernel.invokeFunction(\n",
              "            'suggestCharts', [key], {});\n",
              "      } catch (error) {\n",
              "        console.error('Error during call to suggestCharts:', error);\n",
              "      }\n",
              "      quickchartButtonEl.classList.remove('colab-df-spinner');\n",
              "      quickchartButtonEl.classList.add('colab-df-quickchart-complete');\n",
              "    }\n",
              "    (() => {\n",
              "      let quickchartButtonEl =\n",
              "        document.querySelector('#df-787f7e48-153b-4556-996c-22cf913b4a5a button');\n",
              "      quickchartButtonEl.style.display =\n",
              "        google.colab.kernel.accessAllowed ? 'block' : 'none';\n",
              "    })();\n",
              "  </script>\n",
              "</div>\n",
              "    </div>\n",
              "  </div>\n"
            ],
            "application/vnd.google.colaboratory.intrinsic+json": {
              "type": "dataframe",
              "variable_name": "data_sample",
              "summary": "{\n  \"name\": \"data_sample\",\n  \"rows\": 30000,\n  \"fields\": [\n    {\n      \"column\": \"public_petition_text\",\n      \"properties\": {\n        \"dtype\": \"object\",\n        \"semantic_type\": \"\",\n        \"description\": \"\"\n      }\n    },\n    {\n      \"column\": \"reason_category\",\n      \"properties\": {\n        \"dtype\": \"category\",\n        \"num_unique_values\": 15,\n        \"samples\": [\n          \"\\u041d\\u0435\\u0437\\u0430\\u043a\\u043e\\u043d\\u043d\\u0430\\u044f \\u0438\\u043d\\u0444\\u043e\\u0440\\u043c\\u0430\\u0446\\u0438\\u043e\\u043d\\u043d\\u0430\\u044f \\u0438 (\\u0438\\u043b\\u0438) \\u0440\\u0435\\u043a\\u043b\\u0430\\u043c\\u043d\\u0430\\u044f \\u043a\\u043e\\u043d\\u0441\\u0442\\u0440\\u0443\\u043a\\u0446\\u0438\\u044f\",\n          \"\\u0412\\u043e\\u0434\\u043e\\u0441\\u043d\\u0430\\u0431\\u0436\\u0435\\u043d\\u0438\\u0435\",\n          \"\\u0411\\u043b\\u0430\\u0433\\u043e\\u0443\\u0441\\u0442\\u0440\\u043e\\u0439\\u0441\\u0442\\u0432\\u043e\"\n        ],\n        \"semantic_type\": \"\",\n        \"description\": \"\"\n      }\n    }\n  ]\n}"
            }
          },
          "metadata": {},
          "execution_count": 15
        }
      ]
    },
    {
      "cell_type": "code",
      "source": [
        "data_sample['reason_category'].value_counts()"
      ],
      "metadata": {
        "colab": {
          "base_uri": "https://localhost:8080/",
          "height": 585
        },
        "id": "4zFEgMxNHSod",
        "outputId": "975399c3-4e97-46af-b6fa-f80a92a85f73"
      },
      "execution_count": 16,
      "outputs": [
        {
          "output_type": "execute_result",
          "data": {
            "text/plain": [
              "reason_category\n",
              "Благоустройство                                                                     15151\n",
              "Содержание МКД                                                                       9701\n",
              "Фасад                                                                                 849\n",
              "Повреждения или неисправность элементов уличной инфраструктуры                        677\n",
              "Нарушение правил пользования общим имуществом                                         656\n",
              "Незаконная информационная и (или) рекламная конструкция                               612\n",
              "Водоснабжение                                                                         544\n",
              "Кровля                                                                                501\n",
              "Санитарное состояние                                                                  272\n",
              "Состояние рекламных или информационных конструкций                                    209\n",
              "Центральное отопление                                                                 196\n",
              "Нарушение порядка пользования общим имуществом                                        179\n",
              "Водоотведение                                                                         166\n",
              "Подвалы                                                                               161\n",
              "Незаконная реализация товаров с торгового оборудования (прилавок, ящик, с земли)      126\n",
              "Name: count, dtype: int64"
            ],
            "text/html": [
              "<div>\n",
              "<style scoped>\n",
              "    .dataframe tbody tr th:only-of-type {\n",
              "        vertical-align: middle;\n",
              "    }\n",
              "\n",
              "    .dataframe tbody tr th {\n",
              "        vertical-align: top;\n",
              "    }\n",
              "\n",
              "    .dataframe thead th {\n",
              "        text-align: right;\n",
              "    }\n",
              "</style>\n",
              "<table border=\"1\" class=\"dataframe\">\n",
              "  <thead>\n",
              "    <tr style=\"text-align: right;\">\n",
              "      <th></th>\n",
              "      <th>count</th>\n",
              "    </tr>\n",
              "    <tr>\n",
              "      <th>reason_category</th>\n",
              "      <th></th>\n",
              "    </tr>\n",
              "  </thead>\n",
              "  <tbody>\n",
              "    <tr>\n",
              "      <th>Благоустройство</th>\n",
              "      <td>15151</td>\n",
              "    </tr>\n",
              "    <tr>\n",
              "      <th>Содержание МКД</th>\n",
              "      <td>9701</td>\n",
              "    </tr>\n",
              "    <tr>\n",
              "      <th>Фасад</th>\n",
              "      <td>849</td>\n",
              "    </tr>\n",
              "    <tr>\n",
              "      <th>Повреждения или неисправность элементов уличной инфраструктуры</th>\n",
              "      <td>677</td>\n",
              "    </tr>\n",
              "    <tr>\n",
              "      <th>Нарушение правил пользования общим имуществом</th>\n",
              "      <td>656</td>\n",
              "    </tr>\n",
              "    <tr>\n",
              "      <th>Незаконная информационная и (или) рекламная конструкция</th>\n",
              "      <td>612</td>\n",
              "    </tr>\n",
              "    <tr>\n",
              "      <th>Водоснабжение</th>\n",
              "      <td>544</td>\n",
              "    </tr>\n",
              "    <tr>\n",
              "      <th>Кровля</th>\n",
              "      <td>501</td>\n",
              "    </tr>\n",
              "    <tr>\n",
              "      <th>Санитарное состояние</th>\n",
              "      <td>272</td>\n",
              "    </tr>\n",
              "    <tr>\n",
              "      <th>Состояние рекламных или информационных конструкций</th>\n",
              "      <td>209</td>\n",
              "    </tr>\n",
              "    <tr>\n",
              "      <th>Центральное отопление</th>\n",
              "      <td>196</td>\n",
              "    </tr>\n",
              "    <tr>\n",
              "      <th>Нарушение порядка пользования общим имуществом</th>\n",
              "      <td>179</td>\n",
              "    </tr>\n",
              "    <tr>\n",
              "      <th>Водоотведение</th>\n",
              "      <td>166</td>\n",
              "    </tr>\n",
              "    <tr>\n",
              "      <th>Подвалы</th>\n",
              "      <td>161</td>\n",
              "    </tr>\n",
              "    <tr>\n",
              "      <th>Незаконная реализация товаров с торгового оборудования (прилавок, ящик, с земли)</th>\n",
              "      <td>126</td>\n",
              "    </tr>\n",
              "  </tbody>\n",
              "</table>\n",
              "</div><br><label><b>dtype:</b> int64</label>"
            ]
          },
          "metadata": {},
          "execution_count": 16
        }
      ]
    },
    {
      "cell_type": "markdown",
      "source": [
        "Нужно сократить количество классов\n",
        "\n",
        "\n",
        "1.   Благоустройство и Содержание МКД:\n",
        "   - Объединить в класс Управление территорией.\n",
        "   - Т.к. оба класса связаны с поддержанием и улучшением состояния территории и объектов, что подразумевает управление общими ресурсами.\n",
        "2.   Фасад, Кровля и Подвалы:\n",
        "   - Объединить в класс Элементы здания.\n",
        "   - Т.к. все эти классы относятся к элементам конструкции здания, их состоянию и необходимости ремонтов.\n",
        "3.   Водоснабжение и Водоотведение:\n",
        "   - Объединить в класс Водоснабжения.\n",
        "   - Т.к. оба класса относятся к водным системам и их функциональности.\n",
        "4.   Повреждения или неисправность элементов уличной инфраструктуры и Нарушение правил пользования общим имуществом:\n",
        "   - Объединить в класс Нарушения.\n",
        "   - Т.к. оба класса касаются вопросов нарушения эксплуатации и состояния общего имущества.\n",
        "5.   Санитарное состояние и Нарушение порядка пользования общим имуществом:\n",
        "   - Объединить в класс Гигиена и порядок.\n",
        "   - Т.к. оба класса охватывают вопросы санитарии и использования общественных ресурсов, что напрямую влияет на комфорт и здоровье жителей.\n",
        "6.   Незаконная информационная и (или) рекламная конструкция и Состояние рекламных или информационных конструкций:\n",
        "   - Объединить в класс Реклама.\n",
        "   - Т.к. оба класса связаны с вопросами, касающимися рекламной активности.\n",
        "7.   Центральное отопление:\n",
        "   - Оставлен как отдельный класс, так как имеет специфические технические особенности и отличается от других классов.\n",
        "8.   Незаконная реализация товаров с торгового оборудования:\n",
        "   - Оставлен как отдельный класс, так как касается вопросов незаконной торговли, что является самостоятельной проблемой."
      ],
      "metadata": {
        "id": "ZxlZ-ybtHu7W"
      }
    },
    {
      "cell_type": "code",
      "source": [
        "replace ={'Благоустройство' : 'Управление территорией',\n",
        "              'Содержание МКД' : 'Управление территорией',\n",
        "              'Фасад' : 'Элементы здания',\n",
        "              'Кровля' : 'Элементы здания',\n",
        "              'Подвалы' : 'Элементы здания',\n",
        "              'Водоотведение' : 'Водоснабжение',\n",
        "              'Повреждения или неисправность элементов уличной инфраструктуры' : 'Нарушения',\n",
        "              'Нарушение правил пользования общим имуществом' : 'Нарушения',\n",
        "              'Санитарное состояние' : 'Гигиена и порядок',\n",
        "              'Нарушение порядка пользования общим имуществом' : 'Гигиена и порядок',\n",
        "              'Незаконная информационная и (или) рекламная конструкция' : 'Реклама',\n",
        "              'Состояние рекламных или информационных конструкций' : 'Реклама',\n",
        "              'Незаконная реализация товаров с торгового оборудования (прилавок, ящик, с земли)' : 'Незаконная реализация товаров с торгового оборудования'\n",
        "}\n",
        "data_sample['reason_category'].replace(replace, inplace=True)\n",
        "data_sample['reason_category'].value_counts()"
      ],
      "metadata": {
        "colab": {
          "base_uri": "https://localhost:8080/",
          "height": 507
        },
        "id": "_OFym4dnHflA",
        "outputId": "d931dc70-bd5e-4805-ceff-3cf5b1220494"
      },
      "execution_count": 18,
      "outputs": [
        {
          "output_type": "stream",
          "name": "stderr",
          "text": [
            "<ipython-input-18-72cb5aad3059>:15: FutureWarning: A value is trying to be set on a copy of a DataFrame or Series through chained assignment using an inplace method.\n",
            "The behavior will change in pandas 3.0. This inplace method will never work because the intermediate object on which we are setting values always behaves as a copy.\n",
            "\n",
            "For example, when doing 'df[col].method(value, inplace=True)', try using 'df.method({col: value}, inplace=True)' or df[col] = df[col].method(value) instead, to perform the operation inplace on the original object.\n",
            "\n",
            "\n",
            "  data_sample['reason_category'].replace(replace, inplace=True)\n"
          ]
        },
        {
          "output_type": "execute_result",
          "data": {
            "text/plain": [
              "reason_category\n",
              "Управление территорией                                    24852\n",
              "Элементы здания                                            1511\n",
              "Нарушения                                                  1333\n",
              "Реклама                                                     821\n",
              "Водоснабжение                                               710\n",
              "Гигиена и порядок                                           451\n",
              "Центральное отопление                                       196\n",
              "Незаконная реализация товаров с торгового оборудования      126\n",
              "Name: count, dtype: int64"
            ],
            "text/html": [
              "<div>\n",
              "<style scoped>\n",
              "    .dataframe tbody tr th:only-of-type {\n",
              "        vertical-align: middle;\n",
              "    }\n",
              "\n",
              "    .dataframe tbody tr th {\n",
              "        vertical-align: top;\n",
              "    }\n",
              "\n",
              "    .dataframe thead th {\n",
              "        text-align: right;\n",
              "    }\n",
              "</style>\n",
              "<table border=\"1\" class=\"dataframe\">\n",
              "  <thead>\n",
              "    <tr style=\"text-align: right;\">\n",
              "      <th></th>\n",
              "      <th>count</th>\n",
              "    </tr>\n",
              "    <tr>\n",
              "      <th>reason_category</th>\n",
              "      <th></th>\n",
              "    </tr>\n",
              "  </thead>\n",
              "  <tbody>\n",
              "    <tr>\n",
              "      <th>Управление территорией</th>\n",
              "      <td>24852</td>\n",
              "    </tr>\n",
              "    <tr>\n",
              "      <th>Элементы здания</th>\n",
              "      <td>1511</td>\n",
              "    </tr>\n",
              "    <tr>\n",
              "      <th>Нарушения</th>\n",
              "      <td>1333</td>\n",
              "    </tr>\n",
              "    <tr>\n",
              "      <th>Реклама</th>\n",
              "      <td>821</td>\n",
              "    </tr>\n",
              "    <tr>\n",
              "      <th>Водоснабжение</th>\n",
              "      <td>710</td>\n",
              "    </tr>\n",
              "    <tr>\n",
              "      <th>Гигиена и порядок</th>\n",
              "      <td>451</td>\n",
              "    </tr>\n",
              "    <tr>\n",
              "      <th>Центральное отопление</th>\n",
              "      <td>196</td>\n",
              "    </tr>\n",
              "    <tr>\n",
              "      <th>Незаконная реализация товаров с торгового оборудования</th>\n",
              "      <td>126</td>\n",
              "    </tr>\n",
              "  </tbody>\n",
              "</table>\n",
              "</div><br><label><b>dtype:</b> int64</label>"
            ]
          },
          "metadata": {},
          "execution_count": 18
        }
      ]
    },
    {
      "cell_type": "markdown",
      "source": [
        "# Векторизация документов"
      ],
      "metadata": {
        "id": "6OCYjXrfNmsu"
      }
    },
    {
      "cell_type": "code",
      "source": [
        "from gensim.models import Word2Vec"
      ],
      "metadata": {
        "id": "NL_o7ZfUNtos"
      },
      "execution_count": 19,
      "outputs": []
    },
    {
      "cell_type": "code",
      "source": [
        "t_date = data_sample['public_petition_text']\n",
        "t_date"
      ],
      "metadata": {
        "colab": {
          "base_uri": "https://localhost:8080/",
          "height": 458
        },
        "id": "P0hjJHIFN0HE",
        "outputId": "b8f1a207-83e2-44a8-e7e7-f30601316e26"
      },
      "execution_count": 20,
      "outputs": [
        {
          "output_type": "execute_result",
          "data": {
            "text/plain": [
              "4093     [улица, геологическая, семьдесят, пять, рядом,...\n",
              "42921    [здравствуйтев, нашес, доме, адресу, королева,...\n",
              "20237    [новом, лифте, парадной, освещение, проработал...\n",
              "7948     [добрый, день, уважаемый, исполнитель, выявлен...\n",
              "22523                      [вся, дорога, огромных, ямищах]\n",
              "                               ...                        \n",
              "28482    [наличие, сухих, высоких, деревьев, опасный, н...\n",
              "45951    [вырезан, кусок, асвальта, пешеходного, тратуара]\n",
              "8136       [мешок, лежит, газоне, остановки, первый, день]\n",
              "26                                              [очистить]\n",
              "6941                     [требуется, дератизация, подвала]\n",
              "Name: public_petition_text, Length: 30000, dtype: object"
            ],
            "text/html": [
              "<div>\n",
              "<style scoped>\n",
              "    .dataframe tbody tr th:only-of-type {\n",
              "        vertical-align: middle;\n",
              "    }\n",
              "\n",
              "    .dataframe tbody tr th {\n",
              "        vertical-align: top;\n",
              "    }\n",
              "\n",
              "    .dataframe thead th {\n",
              "        text-align: right;\n",
              "    }\n",
              "</style>\n",
              "<table border=\"1\" class=\"dataframe\">\n",
              "  <thead>\n",
              "    <tr style=\"text-align: right;\">\n",
              "      <th></th>\n",
              "      <th>public_petition_text</th>\n",
              "    </tr>\n",
              "  </thead>\n",
              "  <tbody>\n",
              "    <tr>\n",
              "      <th>4093</th>\n",
              "      <td>[улица, геологическая, семьдесят, пять, рядом,...</td>\n",
              "    </tr>\n",
              "    <tr>\n",
              "      <th>42921</th>\n",
              "      <td>[здравствуйтев, нашес, доме, адресу, королева,...</td>\n",
              "    </tr>\n",
              "    <tr>\n",
              "      <th>20237</th>\n",
              "      <td>[новом, лифте, парадной, освещение, проработал...</td>\n",
              "    </tr>\n",
              "    <tr>\n",
              "      <th>7948</th>\n",
              "      <td>[добрый, день, уважаемый, исполнитель, выявлен...</td>\n",
              "    </tr>\n",
              "    <tr>\n",
              "      <th>22523</th>\n",
              "      <td>[вся, дорога, огромных, ямищах]</td>\n",
              "    </tr>\n",
              "    <tr>\n",
              "      <th>...</th>\n",
              "      <td>...</td>\n",
              "    </tr>\n",
              "    <tr>\n",
              "      <th>28482</th>\n",
              "      <td>[наличие, сухих, высоких, деревьев, опасный, н...</td>\n",
              "    </tr>\n",
              "    <tr>\n",
              "      <th>45951</th>\n",
              "      <td>[вырезан, кусок, асвальта, пешеходного, тратуара]</td>\n",
              "    </tr>\n",
              "    <tr>\n",
              "      <th>8136</th>\n",
              "      <td>[мешок, лежит, газоне, остановки, первый, день]</td>\n",
              "    </tr>\n",
              "    <tr>\n",
              "      <th>26</th>\n",
              "      <td>[очистить]</td>\n",
              "    </tr>\n",
              "    <tr>\n",
              "      <th>6941</th>\n",
              "      <td>[требуется, дератизация, подвала]</td>\n",
              "    </tr>\n",
              "  </tbody>\n",
              "</table>\n",
              "<p>30000 rows × 1 columns</p>\n",
              "</div><br><label><b>dtype:</b> object</label>"
            ]
          },
          "metadata": {},
          "execution_count": 20
        }
      ]
    },
    {
      "cell_type": "code",
      "source": [
        "model = Word2Vec(sentences=t_date, vector_size=128, window=3, min_count=1, workers=4, epochs=10)"
      ],
      "metadata": {
        "id": "3S8ySF0RPGEc"
      },
      "execution_count": 21,
      "outputs": []
    },
    {
      "cell_type": "code",
      "source": [
        "model.wv['дорога'], model.wv['дорога'].shape"
      ],
      "metadata": {
        "colab": {
          "base_uri": "https://localhost:8080/"
        },
        "id": "FvQlh_xBQaWn",
        "outputId": "c6a9d018-a79e-4708-ff09-efe6e964a522"
      },
      "execution_count": 22,
      "outputs": [
        {
          "output_type": "execute_result",
          "data": {
            "text/plain": [
              "(array([-0.23763542, -0.7577411 , -0.18280603,  0.61395013,  0.00706783,\n",
              "        -0.7741954 ,  0.25513065, -0.4401248 ,  0.2955347 ,  0.6544291 ,\n",
              "         0.16187415,  0.16951105,  0.22451372, -0.07800376,  0.35375977,\n",
              "         0.9097117 , -0.27131447, -0.04277654,  0.60673666,  0.7269181 ,\n",
              "         0.30951926, -0.13065386, -0.5112217 , -1.4993914 ,  0.11150774,\n",
              "         0.3474071 , -1.38215   ,  0.66807175,  0.38538095, -0.67140675,\n",
              "        -0.04271655, -0.2346795 ,  0.78620046,  0.3789245 ,  0.51663417,\n",
              "         0.31087515,  0.62276334,  0.14926253, -0.04767799,  0.32548198,\n",
              "        -1.2493602 ,  0.37124318,  0.42347252, -0.40721786,  0.49769747,\n",
              "        -0.54701024, -0.6735021 , -0.1610473 ,  0.33854133,  0.25259948,\n",
              "        -0.02829318,  0.13990082, -0.05547702,  0.3149147 ,  0.0257468 ,\n",
              "         0.44494072, -0.15840542, -0.20468804, -0.6404213 ,  0.5232349 ,\n",
              "        -0.27266335, -0.7151725 ,  0.16308081,  0.3177811 ,  0.14787275,\n",
              "         0.08046057,  0.582979  , -0.2759862 ,  0.83831733, -0.45919093,\n",
              "        -0.82863367, -0.32049853, -0.99118227, -0.5550091 ,  0.7098883 ,\n",
              "        -0.82832485, -0.41652828, -0.23675977, -0.10668656, -0.43261942,\n",
              "        -0.93808675, -0.71226174,  0.7566134 ,  1.1706321 ,  0.02235271,\n",
              "         0.22000243,  0.13836722, -0.7277301 ,  0.46587732,  0.4174997 ,\n",
              "        -0.10009886, -0.8981667 , -0.25833127,  0.20902708,  0.03280475,\n",
              "         0.08820921,  0.0332214 , -0.4105781 , -0.3309294 ,  0.12497347,\n",
              "        -0.6513117 ,  0.2694863 ,  0.5368785 ,  0.21283805,  0.32390663,\n",
              "         0.57304996, -0.15928008,  0.13071956,  0.49016905, -0.17547113,\n",
              "        -0.09470046, -0.33889756, -0.2243268 , -0.22450511, -0.81683236,\n",
              "        -0.4623135 ,  1.1517516 ,  0.09235317,  0.255309  , -0.19021106,\n",
              "        -0.4237912 ,  0.20285732, -0.80207306,  0.08564539,  0.30322284,\n",
              "        -0.2718108 , -1.1495314 ,  0.313615  ], dtype=float32),\n",
              " (128,))"
            ]
          },
          "metadata": {},
          "execution_count": 22
        }
      ]
    },
    {
      "cell_type": "code",
      "source": [
        "model.wv.most_similar('улица', topn=5)"
      ],
      "metadata": {
        "colab": {
          "base_uri": "https://localhost:8080/"
        },
        "id": "Z3_xtfwQQgMO",
        "outputId": "24780bb3-c980-4e29-b19d-618157be1556"
      },
      "execution_count": 24,
      "outputs": [
        {
          "output_type": "execute_result",
          "data": {
            "text/plain": [
              "[('революции', 0.9385172128677368),\n",
              " ('наб', 0.9383726119995117),\n",
              " ('трудящихся', 0.9354119300842285),\n",
              " ('бульвар', 0.9311248064041138),\n",
              " ('огнева', 0.9274898171424866)]"
            ]
          },
          "metadata": {},
          "execution_count": 24
        }
      ]
    },
    {
      "cell_type": "code",
      "source": [
        "model.save('mymodelw2v.bin')"
      ],
      "metadata": {
        "id": "ljyESVN4Q-RC"
      },
      "execution_count": 25,
      "outputs": []
    },
    {
      "cell_type": "markdown",
      "source": [
        "# Кодировка целевого признака и разделение данных"
      ],
      "metadata": {
        "id": "WpOUcjfbRZi8"
      }
    },
    {
      "cell_type": "code",
      "source": [
        "from sklearn.model_selection import train_test_split\n",
        "from sklearn.preprocessing import LabelEncoder"
      ],
      "metadata": {
        "id": "dgS9mjmGRH1C"
      },
      "execution_count": 26,
      "outputs": []
    },
    {
      "cell_type": "code",
      "source": [
        "labels = data_sample['reason_category']\n",
        "labels"
      ],
      "metadata": {
        "colab": {
          "base_uri": "https://localhost:8080/",
          "height": 458
        },
        "id": "zWEniWQBR4MZ",
        "outputId": "10a15a9f-2d76-4bdb-e52e-99c7e8244b0f"
      },
      "execution_count": 27,
      "outputs": [
        {
          "output_type": "execute_result",
          "data": {
            "text/plain": [
              "4093     Управление территорией\n",
              "42921         Гигиена и порядок\n",
              "20237    Управление территорией\n",
              "7948     Управление территорией\n",
              "22523    Управление территорией\n",
              "                  ...          \n",
              "28482    Управление территорией\n",
              "45951    Управление территорией\n",
              "8136     Управление территорией\n",
              "26       Управление территорией\n",
              "6941          Гигиена и порядок\n",
              "Name: reason_category, Length: 30000, dtype: object"
            ],
            "text/html": [
              "<div>\n",
              "<style scoped>\n",
              "    .dataframe tbody tr th:only-of-type {\n",
              "        vertical-align: middle;\n",
              "    }\n",
              "\n",
              "    .dataframe tbody tr th {\n",
              "        vertical-align: top;\n",
              "    }\n",
              "\n",
              "    .dataframe thead th {\n",
              "        text-align: right;\n",
              "    }\n",
              "</style>\n",
              "<table border=\"1\" class=\"dataframe\">\n",
              "  <thead>\n",
              "    <tr style=\"text-align: right;\">\n",
              "      <th></th>\n",
              "      <th>reason_category</th>\n",
              "    </tr>\n",
              "  </thead>\n",
              "  <tbody>\n",
              "    <tr>\n",
              "      <th>4093</th>\n",
              "      <td>Управление территорией</td>\n",
              "    </tr>\n",
              "    <tr>\n",
              "      <th>42921</th>\n",
              "      <td>Гигиена и порядок</td>\n",
              "    </tr>\n",
              "    <tr>\n",
              "      <th>20237</th>\n",
              "      <td>Управление территорией</td>\n",
              "    </tr>\n",
              "    <tr>\n",
              "      <th>7948</th>\n",
              "      <td>Управление территорией</td>\n",
              "    </tr>\n",
              "    <tr>\n",
              "      <th>22523</th>\n",
              "      <td>Управление территорией</td>\n",
              "    </tr>\n",
              "    <tr>\n",
              "      <th>...</th>\n",
              "      <td>...</td>\n",
              "    </tr>\n",
              "    <tr>\n",
              "      <th>28482</th>\n",
              "      <td>Управление территорией</td>\n",
              "    </tr>\n",
              "    <tr>\n",
              "      <th>45951</th>\n",
              "      <td>Управление территорией</td>\n",
              "    </tr>\n",
              "    <tr>\n",
              "      <th>8136</th>\n",
              "      <td>Управление территорией</td>\n",
              "    </tr>\n",
              "    <tr>\n",
              "      <th>26</th>\n",
              "      <td>Управление территорией</td>\n",
              "    </tr>\n",
              "    <tr>\n",
              "      <th>6941</th>\n",
              "      <td>Гигиена и порядок</td>\n",
              "    </tr>\n",
              "  </tbody>\n",
              "</table>\n",
              "<p>30000 rows × 1 columns</p>\n",
              "</div><br><label><b>dtype:</b> object</label>"
            ]
          },
          "metadata": {},
          "execution_count": 27
        }
      ]
    },
    {
      "cell_type": "code",
      "source": [
        "label_encoder = LabelEncoder()\n",
        "encoded_labels = label_encoder.fit_transform(labels)\n",
        "encoded_labels"
      ],
      "metadata": {
        "colab": {
          "base_uri": "https://localhost:8080/"
        },
        "id": "NpQgKFI4Scdq",
        "outputId": "c5aec3b6-f400-435e-fac2-0a7ca4f59a81"
      },
      "execution_count": 28,
      "outputs": [
        {
          "output_type": "execute_result",
          "data": {
            "text/plain": [
              "array([5, 1, 5, ..., 5, 5, 1])"
            ]
          },
          "metadata": {},
          "execution_count": 28
        }
      ]
    },
    {
      "cell_type": "code",
      "source": [
        "def vectorize_text(tokens):\n",
        "    vectors = [model.wv[word] for word in tokens if word in model.wv]\n",
        "    if len(vectors) > 0:\n",
        "        return sum(vectors) / len(vectors)\n",
        "    else:\n",
        "        return [0] * model.vector_size\n",
        "\n",
        "data_vec = data_sample['public_petition_text'].apply(vectorize_text)\n",
        "data_vec"
      ],
      "metadata": {
        "colab": {
          "base_uri": "https://localhost:8080/",
          "height": 458
        },
        "id": "MoKS_Ld5S6Hr",
        "outputId": "61ef7e1c-f3f4-4261-dfce-39d727e45d2f"
      },
      "execution_count": 29,
      "outputs": [
        {
          "output_type": "execute_result",
          "data": {
            "text/plain": [
              "4093     [-0.010980215, -0.38650647, 0.17566991, 0.8653...\n",
              "42921    [0.3493809, -0.36370617, 0.4299601, 0.48645157...\n",
              "20237    [0.7603574, -0.6895664, 0.05680578, 1.1655427,...\n",
              "7948     [0.77892035, -0.49652794, 0.17292763, 0.202112...\n",
              "22523    [0.075929195, -0.38120955, -0.0017583163, 0.21...\n",
              "                               ...                        \n",
              "28482    [0.04873977, -0.26060942, 0.50070196, 0.569148...\n",
              "45951    [-0.028161686, -0.31256738, -0.018116465, 0.05...\n",
              "8136     [0.42477176, -0.2742916, -0.015448749, 0.44211...\n",
              "26       [0.9979334, -0.8964651, -0.68364704, 0.538392,...\n",
              "6941     [0.8427615, -0.70056015, 0.36954892, 0.3560454...\n",
              "Name: public_petition_text, Length: 30000, dtype: object"
            ],
            "text/html": [
              "<div>\n",
              "<style scoped>\n",
              "    .dataframe tbody tr th:only-of-type {\n",
              "        vertical-align: middle;\n",
              "    }\n",
              "\n",
              "    .dataframe tbody tr th {\n",
              "        vertical-align: top;\n",
              "    }\n",
              "\n",
              "    .dataframe thead th {\n",
              "        text-align: right;\n",
              "    }\n",
              "</style>\n",
              "<table border=\"1\" class=\"dataframe\">\n",
              "  <thead>\n",
              "    <tr style=\"text-align: right;\">\n",
              "      <th></th>\n",
              "      <th>public_petition_text</th>\n",
              "    </tr>\n",
              "  </thead>\n",
              "  <tbody>\n",
              "    <tr>\n",
              "      <th>4093</th>\n",
              "      <td>[-0.010980215, -0.38650647, 0.17566991, 0.8653...</td>\n",
              "    </tr>\n",
              "    <tr>\n",
              "      <th>42921</th>\n",
              "      <td>[0.3493809, -0.36370617, 0.4299601, 0.48645157...</td>\n",
              "    </tr>\n",
              "    <tr>\n",
              "      <th>20237</th>\n",
              "      <td>[0.7603574, -0.6895664, 0.05680578, 1.1655427,...</td>\n",
              "    </tr>\n",
              "    <tr>\n",
              "      <th>7948</th>\n",
              "      <td>[0.77892035, -0.49652794, 0.17292763, 0.202112...</td>\n",
              "    </tr>\n",
              "    <tr>\n",
              "      <th>22523</th>\n",
              "      <td>[0.075929195, -0.38120955, -0.0017583163, 0.21...</td>\n",
              "    </tr>\n",
              "    <tr>\n",
              "      <th>...</th>\n",
              "      <td>...</td>\n",
              "    </tr>\n",
              "    <tr>\n",
              "      <th>28482</th>\n",
              "      <td>[0.04873977, -0.26060942, 0.50070196, 0.569148...</td>\n",
              "    </tr>\n",
              "    <tr>\n",
              "      <th>45951</th>\n",
              "      <td>[-0.028161686, -0.31256738, -0.018116465, 0.05...</td>\n",
              "    </tr>\n",
              "    <tr>\n",
              "      <th>8136</th>\n",
              "      <td>[0.42477176, -0.2742916, -0.015448749, 0.44211...</td>\n",
              "    </tr>\n",
              "    <tr>\n",
              "      <th>26</th>\n",
              "      <td>[0.9979334, -0.8964651, -0.68364704, 0.538392,...</td>\n",
              "    </tr>\n",
              "    <tr>\n",
              "      <th>6941</th>\n",
              "      <td>[0.8427615, -0.70056015, 0.36954892, 0.3560454...</td>\n",
              "    </tr>\n",
              "  </tbody>\n",
              "</table>\n",
              "<p>30000 rows × 1 columns</p>\n",
              "</div><br><label><b>dtype:</b> object</label>"
            ]
          },
          "metadata": {},
          "execution_count": 29
        }
      ]
    },
    {
      "cell_type": "code",
      "source": [
        "len(encoded_labels)"
      ],
      "metadata": {
        "colab": {
          "base_uri": "https://localhost:8080/"
        },
        "id": "70XqAe2CWC0K",
        "outputId": "dad4a654-8e14-4019-b481-a28dfcc7377b"
      },
      "execution_count": 30,
      "outputs": [
        {
          "output_type": "execute_result",
          "data": {
            "text/plain": [
              "30000"
            ]
          },
          "metadata": {},
          "execution_count": 30
        }
      ]
    },
    {
      "cell_type": "code",
      "source": [
        "X_train, X_test, y_train, y_test = train_test_split(data_vec, encoded_labels, test_size=0.2, random_state=42, stratify=encoded_labels)"
      ],
      "metadata": {
        "id": "zZ2BO2X6WDsa"
      },
      "execution_count": 31,
      "outputs": []
    },
    {
      "cell_type": "markdown",
      "source": [
        "# Обучение Рекуррентных нейронных сетей для задачи классификации"
      ],
      "metadata": {
        "id": "U7EYGP7zW-Bb"
      }
    },
    {
      "cell_type": "code",
      "source": [
        "import torch\n",
        "from torch.utils.data import TensorDataset, DataLoader\n",
        "import numpy as np"
      ],
      "metadata": {
        "id": "4LIQM1oTXGcQ"
      },
      "execution_count": 38,
      "outputs": []
    },
    {
      "cell_type": "code",
      "source": [
        "X_train"
      ],
      "metadata": {
        "colab": {
          "base_uri": "https://localhost:8080/",
          "height": 458
        },
        "id": "KYcOazr4bL5Q",
        "outputId": "5c46481c-4d09-4573-b32a-a1566b907664"
      },
      "execution_count": 52,
      "outputs": [
        {
          "output_type": "execute_result",
          "data": {
            "text/plain": [
              "39569    [0.4206555, -0.34754646, 0.09521072, 1.863, 0....\n",
              "10394    [0.21383004, -0.33692542, -0.079687245, 1.3285...\n",
              "38901    [0.69837034, -0.47685155, 0.3233039, -0.119972...\n",
              "5558     [0.2865792, -0.1320491, 0.54839665, 0.13531992...\n",
              "17549    [0.36377028, -0.64167416, 0.15143153, 0.279739...\n",
              "                               ...                        \n",
              "35571    [-0.610381, -0.81938374, 0.7114699, 0.28210902...\n",
              "32527    [-0.19058746, -0.4835949, -0.009201312, 0.3344...\n",
              "12529    [0.2717864, -0.46200114, 0.20938018, 0.6728012...\n",
              "25964    [-0.007292069, -0.22208993, 0.15136757, 0.2082...\n",
              "822      [-0.07134831, -0.32317504, 0.09780389, 0.38093...\n",
              "Name: public_petition_text, Length: 24000, dtype: object"
            ],
            "text/html": [
              "<div>\n",
              "<style scoped>\n",
              "    .dataframe tbody tr th:only-of-type {\n",
              "        vertical-align: middle;\n",
              "    }\n",
              "\n",
              "    .dataframe tbody tr th {\n",
              "        vertical-align: top;\n",
              "    }\n",
              "\n",
              "    .dataframe thead th {\n",
              "        text-align: right;\n",
              "    }\n",
              "</style>\n",
              "<table border=\"1\" class=\"dataframe\">\n",
              "  <thead>\n",
              "    <tr style=\"text-align: right;\">\n",
              "      <th></th>\n",
              "      <th>public_petition_text</th>\n",
              "    </tr>\n",
              "  </thead>\n",
              "  <tbody>\n",
              "    <tr>\n",
              "      <th>39569</th>\n",
              "      <td>[0.4206555, -0.34754646, 0.09521072, 1.863, 0....</td>\n",
              "    </tr>\n",
              "    <tr>\n",
              "      <th>10394</th>\n",
              "      <td>[0.21383004, -0.33692542, -0.079687245, 1.3285...</td>\n",
              "    </tr>\n",
              "    <tr>\n",
              "      <th>38901</th>\n",
              "      <td>[0.69837034, -0.47685155, 0.3233039, -0.119972...</td>\n",
              "    </tr>\n",
              "    <tr>\n",
              "      <th>5558</th>\n",
              "      <td>[0.2865792, -0.1320491, 0.54839665, 0.13531992...</td>\n",
              "    </tr>\n",
              "    <tr>\n",
              "      <th>17549</th>\n",
              "      <td>[0.36377028, -0.64167416, 0.15143153, 0.279739...</td>\n",
              "    </tr>\n",
              "    <tr>\n",
              "      <th>...</th>\n",
              "      <td>...</td>\n",
              "    </tr>\n",
              "    <tr>\n",
              "      <th>35571</th>\n",
              "      <td>[-0.610381, -0.81938374, 0.7114699, 0.28210902...</td>\n",
              "    </tr>\n",
              "    <tr>\n",
              "      <th>32527</th>\n",
              "      <td>[-0.19058746, -0.4835949, -0.009201312, 0.3344...</td>\n",
              "    </tr>\n",
              "    <tr>\n",
              "      <th>12529</th>\n",
              "      <td>[0.2717864, -0.46200114, 0.20938018, 0.6728012...</td>\n",
              "    </tr>\n",
              "    <tr>\n",
              "      <th>25964</th>\n",
              "      <td>[-0.007292069, -0.22208993, 0.15136757, 0.2082...</td>\n",
              "    </tr>\n",
              "    <tr>\n",
              "      <th>822</th>\n",
              "      <td>[-0.07134831, -0.32317504, 0.09780389, 0.38093...</td>\n",
              "    </tr>\n",
              "  </tbody>\n",
              "</table>\n",
              "<p>24000 rows × 1 columns</p>\n",
              "</div><br><label><b>dtype:</b> object</label>"
            ]
          },
          "metadata": {},
          "execution_count": 52
        }
      ]
    },
    {
      "cell_type": "code",
      "source": [
        "X_train = np.array(list(X_train))\n",
        "X_test = np.array(list(X_test))"
      ],
      "metadata": {
        "id": "nDLIISZXbjiG"
      },
      "execution_count": 54,
      "outputs": []
    },
    {
      "cell_type": "code",
      "source": [
        "len(X_train)"
      ],
      "metadata": {
        "colab": {
          "base_uri": "https://localhost:8080/"
        },
        "id": "6GfWFMwbbw61",
        "outputId": "87dc1de8-82ac-44bc-c103-d09f496c87f9"
      },
      "execution_count": 56,
      "outputs": [
        {
          "output_type": "execute_result",
          "data": {
            "text/plain": [
              "24000"
            ]
          },
          "metadata": {},
          "execution_count": 56
        }
      ]
    },
    {
      "cell_type": "code",
      "source": [
        "X_train_t = torch.tensor(X_train)\n",
        "y_train_t = torch.tensor(y_train)\n",
        "X_test_t = torch.tensor(X_test)\n",
        "y_test_t = torch.tensor(y_test)"
      ],
      "metadata": {
        "id": "6JvLc8nkYBoo"
      },
      "execution_count": 60,
      "outputs": []
    },
    {
      "cell_type": "code",
      "source": [
        "train_dataset = TensorDataset(X_train_t, y_train_t)\n",
        "test_dataset = TensorDataset(X_test_t, y_test_t)"
      ],
      "metadata": {
        "id": "0KmTB4j6XLte"
      },
      "execution_count": 61,
      "outputs": []
    },
    {
      "cell_type": "code",
      "source": [
        "train_loader = DataLoader(train_dataset, batch_size=64, shuffle=True)\n",
        "test_loader = DataLoader(test_dataset, batch_size=64, shuffle=False)"
      ],
      "metadata": {
        "id": "64549_dWcBOp"
      },
      "execution_count": 62,
      "outputs": []
    },
    {
      "cell_type": "code",
      "source": [
        "import torch.nn as nn\n",
        "import torch.optim as optim"
      ],
      "metadata": {
        "id": "dg6uKasDc6wh"
      },
      "execution_count": 63,
      "outputs": []
    },
    {
      "cell_type": "code",
      "source": [
        "input_size = X_train.shape[1]\n",
        "hidden_size = 256\n",
        "num_classes = len(np.unique(y_train))\n",
        "num_epochs = 20\n",
        "learning_rate = 0.001"
      ],
      "metadata": {
        "id": "jC4Rc-C7c_No"
      },
      "execution_count": 73,
      "outputs": []
    },
    {
      "cell_type": "code",
      "source": [
        "from sklearn.metrics import classification_report, confusion_matrix, accuracy_score"
      ],
      "metadata": {
        "id": "hqFs00Kqe2Zs"
      },
      "execution_count": 65,
      "outputs": []
    },
    {
      "cell_type": "code",
      "source": [
        "def train_test_model(model, train_loader, test_loader, criterion, optimizer, num_epochs):\n",
        "    for epoch in range(num_epochs):\n",
        "        model.train()\n",
        "        running_loss = 0.0\n",
        "        for inputs, labels in train_loader:\n",
        "            outputs = model(inputs)\n",
        "            loss = criterion(outputs, labels)\n",
        "            optimizer.zero_grad()\n",
        "            loss.backward()\n",
        "            optimizer.step()\n",
        "            running_loss += loss.item()\n",
        "\n",
        "        print(f\"Epoch {epoch+1}/{num_epochs}, Loss: {running_loss/len(train_loader):.4f}\")\n",
        "\n",
        "    model.eval()\n",
        "    y_true = []\n",
        "    y_pred = []\n",
        "    with torch.no_grad():\n",
        "        for inputs, labels in test_loader:\n",
        "            outputs = model(inputs)\n",
        "            _, predicted = torch.max(outputs.data, 1)\n",
        "            y_true.extend(labels.tolist())\n",
        "            y_pred.extend(predicted.tolist())\n",
        "\n",
        "    print(\"Accuracy:\", accuracy_score(y_true, y_pred))\n",
        "    print(\"\\nClassification Report:\")\n",
        "    print(classification_report(y_true, y_pred))\n",
        "    print(\"\\nConfusion Matrix:\")\n",
        "    print(confusion_matrix(y_true, y_pred))"
      ],
      "metadata": {
        "id": "fKbK18TydR0S"
      },
      "execution_count": 71,
      "outputs": []
    },
    {
      "cell_type": "code",
      "source": [
        "class RNNClassifier(nn.Module):\n",
        "    def __init__(self, input_size, hidden_size, num_classes):\n",
        "        super(RNNClassifier, self).__init__()\n",
        "        self.rnn = nn.RNN(input_size, hidden_size)\n",
        "        self.fc = nn.Linear(hidden_size, num_classes)\n",
        "\n",
        "    def forward(self, x):\n",
        "        x = x.unsqueeze(1)\n",
        "        out, _ = self.rnn(x)\n",
        "        out = self.fc(out[:, -1, :])\n",
        "        return out\n",
        "\n",
        "rnn_model = RNNClassifier(input_size, hidden_size, num_classes)\n",
        "criterion = nn.CrossEntropyLoss()\n",
        "optimizer = optim.Adam(rnn_model.parameters(), lr=learning_rate)\n",
        "\n",
        "train_test_model(rnn_model, train_loader, test_loader, criterion, optimizer, num_epochs)"
      ],
      "metadata": {
        "colab": {
          "base_uri": "https://localhost:8080/"
        },
        "id": "LDXPvd4ye89u",
        "outputId": "6933ae3f-aab0-4dff-d9ec-1411bd10e37f"
      },
      "execution_count": 74,
      "outputs": [
        {
          "output_type": "stream",
          "name": "stdout",
          "text": [
            "Epoch 1/20, Loss: 0.5774\n",
            "Epoch 2/20, Loss: 0.4650\n",
            "Epoch 3/20, Loss: 0.4366\n",
            "Epoch 4/20, Loss: 0.4176\n",
            "Epoch 5/20, Loss: 0.4032\n",
            "Epoch 6/20, Loss: 0.3924\n",
            "Epoch 7/20, Loss: 0.3817\n",
            "Epoch 8/20, Loss: 0.3728\n",
            "Epoch 9/20, Loss: 0.3644\n",
            "Epoch 10/20, Loss: 0.3584\n",
            "Epoch 11/20, Loss: 0.3534\n",
            "Epoch 12/20, Loss: 0.3484\n",
            "Epoch 13/20, Loss: 0.3407\n",
            "Epoch 14/20, Loss: 0.3387\n",
            "Epoch 15/20, Loss: 0.3366\n",
            "Epoch 16/20, Loss: 0.3321\n",
            "Epoch 17/20, Loss: 0.3277\n",
            "Epoch 18/20, Loss: 0.3264\n",
            "Epoch 19/20, Loss: 0.3242\n",
            "Epoch 20/20, Loss: 0.3228\n",
            "Accuracy: 0.8945\n",
            "\n",
            "Classification Report:\n",
            "              precision    recall  f1-score   support\n",
            "\n",
            "           0       0.88      0.75      0.81       142\n",
            "           1       0.58      0.12      0.20        90\n",
            "           2       0.77      0.60      0.67       267\n",
            "           3       0.67      0.24      0.35        25\n",
            "           4       0.76      0.38      0.51       164\n",
            "           5       0.91      0.98      0.95      4971\n",
            "           6       0.83      0.13      0.22        39\n",
            "           7       0.66      0.47      0.55       302\n",
            "\n",
            "    accuracy                           0.89      6000\n",
            "   macro avg       0.76      0.46      0.53      6000\n",
            "weighted avg       0.88      0.89      0.88      6000\n",
            "\n",
            "\n",
            "Confusion Matrix:\n",
            "[[ 107    1    1    0    0   24    0    9]\n",
            " [   3   11    4    0    1   69    0    2]\n",
            " [   1    0  160    0    7   97    0    2]\n",
            " [   1    0    1    6    3   14    0    0]\n",
            " [   0    0   16    3   63   82    0    0]\n",
            " [   5    4   21    0    9 4874    0   58]\n",
            " [   2    2    0    0    0   27    5    3]\n",
            " [   2    1    6    0    0  151    1  141]]\n"
          ]
        }
      ]
    },
    {
      "cell_type": "code",
      "source": [
        "class LSTMClassifier(nn.Module):\n",
        "    def __init__(self, input_size, hidden_size, num_classes):\n",
        "        super(LSTMClassifier, self).__init__()\n",
        "        self.lstm = nn.LSTM(input_size, hidden_size)\n",
        "        self.fc = nn.Linear(hidden_size, num_classes)\n",
        "\n",
        "    def forward(self, x):\n",
        "        x = x.unsqueeze(1)\n",
        "        out, _ = self.lstm(x)\n",
        "        out = self.fc(out[:, -1, :])\n",
        "        return out\n",
        "\n",
        "lstm_model = LSTMClassifier(input_size, hidden_size, num_classes)\n",
        "criterion = nn.CrossEntropyLoss()\n",
        "optimizer = optim.Adam(lstm_model.parameters(), lr=learning_rate)\n",
        "\n",
        "train_test_model(lstm_model, train_loader, test_loader, criterion, optimizer, num_epochs)"
      ],
      "metadata": {
        "colab": {
          "base_uri": "https://localhost:8080/"
        },
        "id": "Y3uh6arGkI-O",
        "outputId": "5b17060e-4531-44b3-e8d6-9a99ccdb9332"
      },
      "execution_count": 75,
      "outputs": [
        {
          "output_type": "stream",
          "name": "stdout",
          "text": [
            "Epoch 1/20, Loss: 0.6011\n",
            "Epoch 2/20, Loss: 0.4594\n",
            "Epoch 3/20, Loss: 0.4164\n",
            "Epoch 4/20, Loss: 0.3882\n",
            "Epoch 5/20, Loss: 0.3680\n",
            "Epoch 6/20, Loss: 0.3560\n",
            "Epoch 7/20, Loss: 0.3435\n",
            "Epoch 8/20, Loss: 0.3330\n",
            "Epoch 9/20, Loss: 0.3270\n",
            "Epoch 10/20, Loss: 0.3186\n",
            "Epoch 11/20, Loss: 0.3121\n",
            "Epoch 12/20, Loss: 0.3086\n",
            "Epoch 13/20, Loss: 0.3009\n",
            "Epoch 14/20, Loss: 0.2983\n",
            "Epoch 15/20, Loss: 0.2941\n",
            "Epoch 16/20, Loss: 0.2882\n",
            "Epoch 17/20, Loss: 0.2856\n",
            "Epoch 18/20, Loss: 0.2830\n",
            "Epoch 19/20, Loss: 0.2791\n",
            "Epoch 20/20, Loss: 0.2764\n",
            "Accuracy: 0.9031666666666667\n",
            "\n",
            "Classification Report:\n",
            "              precision    recall  f1-score   support\n",
            "\n",
            "           0       0.88      0.77      0.82       142\n",
            "           1       0.59      0.26      0.36        90\n",
            "           2       0.82      0.64      0.72       267\n",
            "           3       0.60      0.24      0.34        25\n",
            "           4       0.86      0.54      0.66       164\n",
            "           5       0.91      0.99      0.95      4971\n",
            "           6       0.60      0.08      0.14        39\n",
            "           7       0.76      0.37      0.50       302\n",
            "\n",
            "    accuracy                           0.90      6000\n",
            "   macro avg       0.75      0.48      0.56      6000\n",
            "weighted avg       0.89      0.90      0.89      6000\n",
            "\n",
            "\n",
            "Confusion Matrix:\n",
            "[[ 109    0    0    0    0   26    0    7]\n",
            " [   2   23    4    0    0   58    0    3]\n",
            " [   0    1  170    0    8   87    1    0]\n",
            " [   1    0    1    6    2   15    0    0]\n",
            " [   0    0   11    3   88   62    0    0]\n",
            " [   5   12   18    1    4 4907    0   24]\n",
            " [   3    1    0    0    0   30    3    2]\n",
            " [   4    2    4    0    0  178    1  113]]\n"
          ]
        }
      ]
    },
    {
      "cell_type": "code",
      "source": [
        "class GRUClassifier(nn.Module):\n",
        "    def __init__(self, input_size, hidden_size, num_classes):\n",
        "        super(GRUClassifier, self).__init__()\n",
        "        self.gru = nn.GRU(input_size, hidden_size)\n",
        "        self.fc = nn.Linear(hidden_size, num_classes)\n",
        "\n",
        "    def forward(self, x):\n",
        "        x = x.unsqueeze(1)\n",
        "        out, _ = self.gru(x)\n",
        "        out = self.fc(out[:, -1, :])\n",
        "        return out\n",
        "\n",
        "gru_model = GRUClassifier(input_size, hidden_size, num_classes)\n",
        "criterion = nn.CrossEntropyLoss()\n",
        "optimizer = optim.Adam(gru_model.parameters(), lr=learning_rate)\n",
        "\n",
        "train_test_model(gru_model, train_loader, test_loader, criterion, optimizer, num_epochs)"
      ],
      "metadata": {
        "colab": {
          "base_uri": "https://localhost:8080/"
        },
        "id": "PmYIMpLTlIVb",
        "outputId": "e07924f8-f115-4351-e8bd-c8b8421d0694"
      },
      "execution_count": 76,
      "outputs": [
        {
          "output_type": "stream",
          "name": "stdout",
          "text": [
            "Epoch 1/20, Loss: 0.5608\n",
            "Epoch 2/20, Loss: 0.4357\n",
            "Epoch 3/20, Loss: 0.3999\n",
            "Epoch 4/20, Loss: 0.3792\n",
            "Epoch 5/20, Loss: 0.3629\n",
            "Epoch 6/20, Loss: 0.3479\n",
            "Epoch 7/20, Loss: 0.3411\n",
            "Epoch 8/20, Loss: 0.3309\n",
            "Epoch 9/20, Loss: 0.3257\n",
            "Epoch 10/20, Loss: 0.3188\n",
            "Epoch 11/20, Loss: 0.3118\n",
            "Epoch 12/20, Loss: 0.3073\n",
            "Epoch 13/20, Loss: 0.3057\n",
            "Epoch 14/20, Loss: 0.3020\n",
            "Epoch 15/20, Loss: 0.2976\n",
            "Epoch 16/20, Loss: 0.2929\n",
            "Epoch 17/20, Loss: 0.2906\n",
            "Epoch 18/20, Loss: 0.2872\n",
            "Epoch 19/20, Loss: 0.2849\n",
            "Epoch 20/20, Loss: 0.2811\n",
            "Accuracy: 0.897\n",
            "\n",
            "Classification Report:\n",
            "              precision    recall  f1-score   support\n",
            "\n",
            "           0       0.85      0.80      0.82       142\n",
            "           1       0.74      0.22      0.34        90\n",
            "           2       0.86      0.49      0.63       267\n",
            "           3       0.78      0.28      0.41        25\n",
            "           4       0.75      0.57      0.65       164\n",
            "           5       0.91      0.98      0.95      4971\n",
            "           6       0.57      0.10      0.17        39\n",
            "           7       0.64      0.44      0.52       302\n",
            "\n",
            "    accuracy                           0.90      6000\n",
            "   macro avg       0.76      0.49      0.56      6000\n",
            "weighted avg       0.89      0.90      0.88      6000\n",
            "\n",
            "\n",
            "Confusion Matrix:\n",
            "[[ 113    0    0    0    0   20    0    9]\n",
            " [   3   20    3    0    1   59    0    4]\n",
            " [   1    0  132    0   17  116    0    1]\n",
            " [   1    0    0    7    2   15    0    0]\n",
            " [   0    0    7    2   94   61    0    0]\n",
            " [   6    6    9    0   12 4880    2   56]\n",
            " [   4    1    0    0    0   26    4    4]\n",
            " [   5    0    2    0    0  162    1  132]]\n"
          ]
        }
      ]
    },
    {
      "cell_type": "markdown",
      "source": [
        "Поиграемся с готовыми моделями"
      ],
      "metadata": {
        "id": "M_pHyV5coI-m"
      }
    },
    {
      "cell_type": "code",
      "source": [
        "text = \"Прошу вас отремонтировать пешеходную дорожку\"\n",
        "\n",
        "tokens = preprocess_text(text)\n",
        "input_vector = vectorize_text(tokens)\n",
        "input_vector = np.array(list(input_vector))\n",
        "input_vector = torch.tensor(input_vector)\n",
        "input_tensor = input_vector.unsqueeze(0)"
      ],
      "metadata": {
        "id": "ujsDLKy1oIn2"
      },
      "execution_count": 80,
      "outputs": []
    },
    {
      "cell_type": "code",
      "source": [
        "rnn_model.eval()\n",
        "\n",
        "with torch.no_grad():\n",
        "    output = rnn_model(input_tensor)\n",
        "    predicted_class = torch.argmax(output, dim=1).item()\n",
        "\n",
        "print(f\"Предсказанный класс: {predicted_class}\")\n",
        "\n",
        "predicted_label = label_encoder.inverse_transform([predicted_class])[0]\n",
        "print(f\"Класс текста: {predicted_label}\")"
      ],
      "metadata": {
        "colab": {
          "base_uri": "https://localhost:8080/"
        },
        "id": "ABKaIgxmpAc9",
        "outputId": "0767cd00-c110-4d3d-aff5-1fa32d381eb1"
      },
      "execution_count": 81,
      "outputs": [
        {
          "output_type": "stream",
          "name": "stdout",
          "text": [
            "Предсказанный класс: 5\n",
            "Класс текста: Управление территорией\n"
          ]
        }
      ]
    },
    {
      "cell_type": "code",
      "source": [
        "lstm_model.eval()\n",
        "\n",
        "with torch.no_grad():\n",
        "    output = lstm_model(input_tensor)\n",
        "    predicted_class = torch.argmax(output, dim=1).item()\n",
        "\n",
        "print(f\"Предсказанный класс: {predicted_class}\")\n",
        "\n",
        "predicted_label = label_encoder.inverse_transform([predicted_class])[0]\n",
        "print(f\"Класс текста: {predicted_label}\")"
      ],
      "metadata": {
        "colab": {
          "base_uri": "https://localhost:8080/"
        },
        "id": "GXmFjxRcpzYZ",
        "outputId": "9399f149-c47c-4382-c98f-879bda00d47d"
      },
      "execution_count": 82,
      "outputs": [
        {
          "output_type": "stream",
          "name": "stdout",
          "text": [
            "Предсказанный класс: 5\n",
            "Класс текста: Управление территорией\n"
          ]
        }
      ]
    },
    {
      "cell_type": "code",
      "source": [
        "gru_model.eval()\n",
        "\n",
        "with torch.no_grad():\n",
        "    output = gru_model(input_tensor)\n",
        "    predicted_class = torch.argmax(output, dim=1).item()\n",
        "\n",
        "print(f\"Предсказанный класс: {predicted_class}\")\n",
        "\n",
        "predicted_label = label_encoder.inverse_transform([predicted_class])[0]\n",
        "print(f\"Класс текста: {predicted_label}\")"
      ],
      "metadata": {
        "colab": {
          "base_uri": "https://localhost:8080/"
        },
        "id": "AYxuhUZopz4w",
        "outputId": "615ff0bf-c77b-4365-8928-63ea8a6b8fd9"
      },
      "execution_count": 83,
      "outputs": [
        {
          "output_type": "stream",
          "name": "stdout",
          "text": [
            "Предсказанный класс: 5\n",
            "Класс текста: Управление территорией\n"
          ]
        }
      ]
    }
  ]
}